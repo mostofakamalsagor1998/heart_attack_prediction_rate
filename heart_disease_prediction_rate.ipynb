{
 "cells": [
  {
   "cell_type": "markdown",
   "metadata": {
    "id": "sXQuc_vEagPm"
   },
   "source": [
    "# **About Dataset**\n",
    "\n",
    "**Here are 307rows and 14 features in total.**\n",
    "\n",
    "*Some of them are age, sex, chest pain type, resting blood pressure, serum cholestoral, fasting blood sugar, resting electrocardiographic results, maximum heart rate achieved, exercise induced angina.*"
   ]
  },
  {
   "cell_type": "markdown",
   "metadata": {
    "id": "IqUbcyDzXzip"
   },
   "source": [
    "# **Import Libararies**"
   ]
  },
  {
   "cell_type": "code",
   "execution_count": 3,
   "metadata": {
    "colab": {
     "base_uri": "https://localhost:8080/",
     "height": 70
    },
    "executionInfo": {
     "elapsed": 2091,
     "status": "ok",
     "timestamp": 1601279037777,
     "user": {
      "displayName": "Mostofa Kamal Sagor",
      "photoUrl": "https://lh3.googleusercontent.com/a-/AOh14GjKkF3hCXuG4vu_kbbt9ktNbBjA1ZSnubKiggAY=s64",
      "userId": "16260421205970331398"
     },
     "user_tz": -360
    },
    "id": "B0djwKNLjnFz",
    "outputId": "8e08a659-24c6-4a83-e4d9-05be2a259c15"
   },
   "outputs": [],
   "source": [
    "import numpy as np\n",
    "import pandas as pd\n",
    "import matplotlib.pyplot as plt\n",
    "import seaborn as sns"
   ]
  },
  {
   "cell_type": "code",
   "execution_count": null,
   "metadata": {
    "colab": {
     "base_uri": "https://localhost:8080/",
     "height": 33
    },
    "executionInfo": {
     "elapsed": 2577,
     "status": "ok",
     "timestamp": 1601279038289,
     "user": {
      "displayName": "Mostofa Kamal Sagor",
      "photoUrl": "https://lh3.googleusercontent.com/a-/AOh14GjKkF3hCXuG4vu_kbbt9ktNbBjA1ZSnubKiggAY=s64",
      "userId": "16260421205970331398"
     },
     "user_tz": -360
    },
    "id": "tADY983Ak91Y",
    "outputId": "3cd297a8-b255-44a1-ab0c-ee70675f41ba"
   },
   "outputs": [],
   "source": [
    "from google.colab import drive\n",
    "drive.mount('/content/drive')"
   ]
  },
  {
   "cell_type": "markdown",
   "metadata": {
    "id": "qMdhHAv5K_Re"
   },
   "source": [
    "# ***Step:01***"
   ]
  },
  {
   "cell_type": "markdown",
   "metadata": {
    "id": "URj56Mjm58IY"
   },
   "source": [
    "# **Read the Data Set**"
   ]
  },
  {
   "cell_type": "code",
   "execution_count": 4,
   "metadata": {
    "colab": {
     "base_uri": "https://localhost:8080/",
     "height": 191
    },
    "executionInfo": {
     "elapsed": 3921,
     "status": "ok",
     "timestamp": 1601279039651,
     "user": {
      "displayName": "Mostofa Kamal Sagor",
      "photoUrl": "https://lh3.googleusercontent.com/a-/AOh14GjKkF3hCXuG4vu_kbbt9ktNbBjA1ZSnubKiggAY=s64",
      "userId": "16260421205970331398"
     },
     "user_tz": -360
    },
    "id": "4dbUWuJekohv",
    "outputId": "8dc9555b-04e9-4388-8906-4ebc72827635"
   },
   "outputs": [],
   "source": [
    "heart_prediction_dataset = pd.read_excel('/content/drive/My Drive/Group3_AIproject/Heart Attack Prediction Dataset.xlsx')\n",
    "heart_prediction_dataset.head()"
   ]
  },
  {
   "cell_type": "code",
   "execution_count": 4,
   "metadata": {
    "colab": {
     "base_uri": "https://localhost:8080/",
     "height": 191
    },
    "executionInfo": {
     "elapsed": 3905,
     "status": "ok",
     "timestamp": 1601279039653,
     "user": {
      "displayName": "Mostofa Kamal Sagor",
      "photoUrl": "https://lh3.googleusercontent.com/a-/AOh14GjKkF3hCXuG4vu_kbbt9ktNbBjA1ZSnubKiggAY=s64",
      "userId": "16260421205970331398"
     },
     "user_tz": -360
    },
    "id": "skT_0mmaOzDM",
    "outputId": "8f1502da-aa91-42e1-9340-38685d29610c"
   },
   "outputs": [
    {
     "data": {
      "text/html": [
       "<div>\n",
       "<style scoped>\n",
       "    .dataframe tbody tr th:only-of-type {\n",
       "        vertical-align: middle;\n",
       "    }\n",
       "\n",
       "    .dataframe tbody tr th {\n",
       "        vertical-align: top;\n",
       "    }\n",
       "\n",
       "    .dataframe thead th {\n",
       "        text-align: right;\n",
       "    }\n",
       "</style>\n",
       "<table border=\"1\" class=\"dataframe\">\n",
       "  <thead>\n",
       "    <tr style=\"text-align: right;\">\n",
       "      <th></th>\n",
       "      <th>age</th>\n",
       "      <th>sex</th>\n",
       "      <th>cp</th>\n",
       "      <th>trestbps</th>\n",
       "      <th>chol</th>\n",
       "      <th>fbs</th>\n",
       "      <th>restecg</th>\n",
       "      <th>thalach</th>\n",
       "      <th>exang</th>\n",
       "      <th>oldpeak</th>\n",
       "      <th>slope</th>\n",
       "      <th>ca</th>\n",
       "      <th>thal</th>\n",
       "      <th>target</th>\n",
       "    </tr>\n",
       "  </thead>\n",
       "  <tbody>\n",
       "    <tr>\n",
       "      <th>290</th>\n",
       "      <td>61.0</td>\n",
       "      <td>M</td>\n",
       "      <td>0</td>\n",
       "      <td>148.0</td>\n",
       "      <td>203.0</td>\n",
       "      <td>0</td>\n",
       "      <td>1</td>\n",
       "      <td>161.0</td>\n",
       "      <td>0</td>\n",
       "      <td>0.0</td>\n",
       "      <td>2</td>\n",
       "      <td>1</td>\n",
       "      <td>3</td>\n",
       "      <td>no</td>\n",
       "    </tr>\n",
       "    <tr>\n",
       "      <th>264</th>\n",
       "      <td>54.0</td>\n",
       "      <td>M</td>\n",
       "      <td>0</td>\n",
       "      <td>110.0</td>\n",
       "      <td>206.0</td>\n",
       "      <td>0</td>\n",
       "      <td>0</td>\n",
       "      <td>108.0</td>\n",
       "      <td>1</td>\n",
       "      <td>0.0</td>\n",
       "      <td>1</td>\n",
       "      <td>1</td>\n",
       "      <td>2</td>\n",
       "      <td>no</td>\n",
       "    </tr>\n",
       "    <tr>\n",
       "      <th>166</th>\n",
       "      <td>67.0</td>\n",
       "      <td>M</td>\n",
       "      <td>0</td>\n",
       "      <td>120.0</td>\n",
       "      <td>229.0</td>\n",
       "      <td>0</td>\n",
       "      <td>0</td>\n",
       "      <td>129.0</td>\n",
       "      <td>1</td>\n",
       "      <td>2.6</td>\n",
       "      <td>1</td>\n",
       "      <td>2</td>\n",
       "      <td>3</td>\n",
       "      <td>no</td>\n",
       "    </tr>\n",
       "    <tr>\n",
       "      <th>48</th>\n",
       "      <td>53.0</td>\n",
       "      <td>F</td>\n",
       "      <td>2</td>\n",
       "      <td>128.0</td>\n",
       "      <td>216.0</td>\n",
       "      <td>0</td>\n",
       "      <td>0</td>\n",
       "      <td>115.0</td>\n",
       "      <td>0</td>\n",
       "      <td>0.0</td>\n",
       "      <td>2</td>\n",
       "      <td>0</td>\n",
       "      <td>0</td>\n",
       "      <td>yes</td>\n",
       "    </tr>\n",
       "    <tr>\n",
       "      <th>94</th>\n",
       "      <td>45.0</td>\n",
       "      <td>F</td>\n",
       "      <td>1</td>\n",
       "      <td>112.0</td>\n",
       "      <td>160.0</td>\n",
       "      <td>0</td>\n",
       "      <td>1</td>\n",
       "      <td>138.0</td>\n",
       "      <td>0</td>\n",
       "      <td>0.0</td>\n",
       "      <td>1</td>\n",
       "      <td>0</td>\n",
       "      <td>2</td>\n",
       "      <td>yes</td>\n",
       "    </tr>\n",
       "  </tbody>\n",
       "</table>\n",
       "</div>"
      ],
      "text/plain": [
       "      age sex  cp  trestbps   chol  fbs  ...  exang  oldpeak  slope  ca  thal  target\n",
       "290  61.0   M   0     148.0  203.0    0  ...      0      0.0      2   1     3      no\n",
       "264  54.0   M   0     110.0  206.0    0  ...      1      0.0      1   1     2      no\n",
       "166  67.0   M   0     120.0  229.0    0  ...      1      2.6      1   2     3      no\n",
       "48   53.0   F   2     128.0  216.0    0  ...      0      0.0      2   0     0     yes\n",
       "94   45.0   F   1     112.0  160.0    0  ...      0      0.0      1   0     2     yes\n",
       "\n",
       "[5 rows x 14 columns]"
      ]
     },
     "execution_count": 4,
     "metadata": {
      "tags": []
     },
     "output_type": "execute_result"
    }
   ],
   "source": [
    "heart_prediction_dataset.sample(5)"
   ]
  },
  {
   "cell_type": "code",
   "execution_count": 5,
   "metadata": {
    "colab": {
     "base_uri": "https://localhost:8080/",
     "height": 67
    },
    "executionInfo": {
     "elapsed": 3894,
     "status": "ok",
     "timestamp": 1601279039654,
     "user": {
      "displayName": "Mostofa Kamal Sagor",
      "photoUrl": "https://lh3.googleusercontent.com/a-/AOh14GjKkF3hCXuG4vu_kbbt9ktNbBjA1ZSnubKiggAY=s64",
      "userId": "16260421205970331398"
     },
     "user_tz": -360
    },
    "id": "uBKE0WxeWSAE",
    "outputId": "e08251bc-7725-48ce-993f-04bcce1e33f0"
   },
   "outputs": [
    {
     "name": "stdout",
     "output_type": "stream",
     "text": [
      "(307, 14)\n",
      "Rows in the Data Set:  307\n",
      "Columns in the Data Set:  14\n"
     ]
    }
   ],
   "source": [
    "print(heart_prediction_dataset.shape)\n",
    "print(\"Rows in the Data Set: \",heart_prediction_dataset.shape[0])\n",
    "print(\"Columns in the Data Set: \",heart_prediction_dataset.shape[1])"
   ]
  },
  {
   "cell_type": "markdown",
   "metadata": {
    "id": "qfkmY55xGvzT"
   },
   "source": [
    "### **Seeing the columns from our dataset :**"
   ]
  },
  {
   "cell_type": "code",
   "execution_count": 6,
   "metadata": {
    "colab": {
     "base_uri": "https://localhost:8080/",
     "height": 67
    },
    "executionInfo": {
     "elapsed": 3882,
     "status": "ok",
     "timestamp": 1601279039654,
     "user": {
      "displayName": "Mostofa Kamal Sagor",
      "photoUrl": "https://lh3.googleusercontent.com/a-/AOh14GjKkF3hCXuG4vu_kbbt9ktNbBjA1ZSnubKiggAY=s64",
      "userId": "16260421205970331398"
     },
     "user_tz": -360
    },
    "id": "QFnUQNTP1zBm",
    "outputId": "7ea46120-f450-4f59-f02e-97cf1d3c8a1d"
   },
   "outputs": [
    {
     "data": {
      "text/plain": [
       "Index(['age', 'sex', 'cp', 'trestbps', 'chol', 'fbs', 'restecg', 'thalach',\n",
       "       'exang', 'oldpeak', 'slope', 'ca', 'thal', 'target'],\n",
       "      dtype='object')"
      ]
     },
     "execution_count": 6,
     "metadata": {
      "tags": []
     },
     "output_type": "execute_result"
    }
   ],
   "source": [
    "heart_prediction_dataset.columns"
   ]
  },
  {
   "cell_type": "code",
   "execution_count": 7,
   "metadata": {
    "colab": {
     "base_uri": "https://localhost:8080/",
     "height": 33
    },
    "executionInfo": {
     "elapsed": 3870,
     "status": "ok",
     "timestamp": 1601279039655,
     "user": {
      "displayName": "Mostofa Kamal Sagor",
      "photoUrl": "https://lh3.googleusercontent.com/a-/AOh14GjKkF3hCXuG4vu_kbbt9ktNbBjA1ZSnubKiggAY=s64",
      "userId": "16260421205970331398"
     },
     "user_tz": -360
    },
    "id": "y_wgqQMLtELx",
    "outputId": "52988451-dab5-40b1-9479-78575850bdb0"
   },
   "outputs": [
    {
     "name": "stdout",
     "output_type": "stream",
     "text": [
      "Features in the dataset are : age , sex , cp , trestbps , chol , fbs , restecg , thalach , exang , oldpeak , slope , ca , thal , target\n"
     ]
    }
   ],
   "source": [
    "#Checking out all the features\n",
    "features=[feature for feature in heart_prediction_dataset.columns]\n",
    "print(\"Features in the dataset are :\",\" , \".join(features))"
   ]
  },
  {
   "cell_type": "markdown",
   "metadata": {
    "id": "ClgWUnkLLEks"
   },
   "source": [
    "# ***Step:02***"
   ]
  },
  {
   "cell_type": "markdown",
   "metadata": {
    "id": "dVuc3ZuOX79S"
   },
   "source": [
    "# **Data Visualizaton**\n",
    "\n"
   ]
  },
  {
   "cell_type": "code",
   "execution_count": 8,
   "metadata": {
    "colab": {
     "base_uri": "https://localhost:8080/",
     "height": 33
    },
    "executionInfo": {
     "elapsed": 3860,
     "status": "ok",
     "timestamp": 1601279039656,
     "user": {
      "displayName": "Mostofa Kamal Sagor",
      "photoUrl": "https://lh3.googleusercontent.com/a-/AOh14GjKkF3hCXuG4vu_kbbt9ktNbBjA1ZSnubKiggAY=s64",
      "userId": "16260421205970331398"
     },
     "user_tz": -360
    },
    "id": "l-JyIgaY6kTD",
    "outputId": "eea57bbc-b777-4e70-f626-031fd475f427"
   },
   "outputs": [
    {
     "name": "stdout",
     "output_type": "stream",
     "text": [
      "33\n"
     ]
    }
   ],
   "source": [
    "#The total count of the 60-up aged patients to be positively correlated towards heart disease\n",
    "ageMap=heart_prediction_dataset[(heart_prediction_dataset.age>60) & (heart_prediction_dataset.target==\"yes\")]\n",
    "print(sum(ageMap['age'].notnull()))"
   ]
  },
  {
   "cell_type": "code",
   "execution_count": 9,
   "metadata": {
    "colab": {
     "base_uri": "https://localhost:8080/",
     "height": 367
    },
    "executionInfo": {
     "elapsed": 3850,
     "status": "ok",
     "timestamp": 1601279039657,
     "user": {
      "displayName": "Mostofa Kamal Sagor",
      "photoUrl": "https://lh3.googleusercontent.com/a-/AOh14GjKkF3hCXuG4vu_kbbt9ktNbBjA1ZSnubKiggAY=s64",
      "userId": "16260421205970331398"
     },
     "user_tz": -360
    },
    "id": "CMkd11Wq8rP-",
    "outputId": "bb13e390-4d76-47e6-c7de-17e4134904f6"
   },
   "outputs": [
    {
     "name": "stdout",
     "output_type": "stream",
     "text": [
      "<class 'pandas.core.frame.DataFrame'>\n",
      "RangeIndex: 307 entries, 0 to 306\n",
      "Data columns (total 14 columns):\n",
      " #   Column    Non-Null Count  Dtype  \n",
      "---  ------    --------------  -----  \n",
      " 0   age       297 non-null    float64\n",
      " 1   sex       307 non-null    object \n",
      " 2   cp        307 non-null    int64  \n",
      " 3   trestbps  294 non-null    float64\n",
      " 4   chol      298 non-null    float64\n",
      " 5   fbs       307 non-null    int64  \n",
      " 6   restecg   307 non-null    int64  \n",
      " 7   thalach   294 non-null    float64\n",
      " 8   exang     307 non-null    int64  \n",
      " 9   oldpeak   307 non-null    float64\n",
      " 10  slope     307 non-null    int64  \n",
      " 11  ca        307 non-null    int64  \n",
      " 12  thal      307 non-null    int64  \n",
      " 13  target    307 non-null    object \n",
      "dtypes: float64(5), int64(7), object(2)\n",
      "memory usage: 33.7+ KB\n"
     ]
    }
   ],
   "source": [
    "heart_prediction_dataset.info()"
   ]
  },
  {
   "cell_type": "code",
   "execution_count": 10,
   "metadata": {
    "colab": {
     "base_uri": "https://localhost:8080/",
     "height": 278
    },
    "executionInfo": {
     "elapsed": 3839,
     "status": "ok",
     "timestamp": 1601279039658,
     "user": {
      "displayName": "Mostofa Kamal Sagor",
      "photoUrl": "https://lh3.googleusercontent.com/a-/AOh14GjKkF3hCXuG4vu_kbbt9ktNbBjA1ZSnubKiggAY=s64",
      "userId": "16260421205970331398"
     },
     "user_tz": -360
    },
    "id": "DmrpYjPf14Lg",
    "outputId": "31c8a2ec-8133-4230-bd16-7f54933ec4ad"
   },
   "outputs": [
    {
     "data": {
      "text/html": [
       "<div>\n",
       "<style scoped>\n",
       "    .dataframe tbody tr th:only-of-type {\n",
       "        vertical-align: middle;\n",
       "    }\n",
       "\n",
       "    .dataframe tbody tr th {\n",
       "        vertical-align: top;\n",
       "    }\n",
       "\n",
       "    .dataframe thead th {\n",
       "        text-align: right;\n",
       "    }\n",
       "</style>\n",
       "<table border=\"1\" class=\"dataframe\">\n",
       "  <thead>\n",
       "    <tr style=\"text-align: right;\">\n",
       "      <th></th>\n",
       "      <th>age</th>\n",
       "      <th>cp</th>\n",
       "      <th>trestbps</th>\n",
       "      <th>chol</th>\n",
       "      <th>fbs</th>\n",
       "      <th>restecg</th>\n",
       "      <th>thalach</th>\n",
       "      <th>exang</th>\n",
       "      <th>oldpeak</th>\n",
       "      <th>slope</th>\n",
       "      <th>ca</th>\n",
       "      <th>thal</th>\n",
       "    </tr>\n",
       "  </thead>\n",
       "  <tbody>\n",
       "    <tr>\n",
       "      <th>count</th>\n",
       "      <td>297.000000</td>\n",
       "      <td>307.000000</td>\n",
       "      <td>294.000000</td>\n",
       "      <td>298.000000</td>\n",
       "      <td>307.000000</td>\n",
       "      <td>307.000000</td>\n",
       "      <td>294.000000</td>\n",
       "      <td>307.000000</td>\n",
       "      <td>307.000000</td>\n",
       "      <td>307.000000</td>\n",
       "      <td>307.000000</td>\n",
       "      <td>307.000000</td>\n",
       "    </tr>\n",
       "    <tr>\n",
       "      <th>mean</th>\n",
       "      <td>54.340067</td>\n",
       "      <td>0.960912</td>\n",
       "      <td>131.374150</td>\n",
       "      <td>246.379195</td>\n",
       "      <td>0.149837</td>\n",
       "      <td>0.524430</td>\n",
       "      <td>149.465986</td>\n",
       "      <td>0.332248</td>\n",
       "      <td>1.059935</td>\n",
       "      <td>1.394137</td>\n",
       "      <td>0.732899</td>\n",
       "      <td>2.309446</td>\n",
       "    </tr>\n",
       "    <tr>\n",
       "      <th>std</th>\n",
       "      <td>9.087163</td>\n",
       "      <td>1.031420</td>\n",
       "      <td>17.167201</td>\n",
       "      <td>51.882805</td>\n",
       "      <td>0.357494</td>\n",
       "      <td>0.525701</td>\n",
       "      <td>22.882484</td>\n",
       "      <td>0.471788</td>\n",
       "      <td>1.174368</td>\n",
       "      <td>0.619164</td>\n",
       "      <td>1.022776</td>\n",
       "      <td>0.619937</td>\n",
       "    </tr>\n",
       "    <tr>\n",
       "      <th>min</th>\n",
       "      <td>29.000000</td>\n",
       "      <td>0.000000</td>\n",
       "      <td>94.000000</td>\n",
       "      <td>126.000000</td>\n",
       "      <td>0.000000</td>\n",
       "      <td>0.000000</td>\n",
       "      <td>71.000000</td>\n",
       "      <td>0.000000</td>\n",
       "      <td>0.000000</td>\n",
       "      <td>0.000000</td>\n",
       "      <td>0.000000</td>\n",
       "      <td>0.000000</td>\n",
       "    </tr>\n",
       "    <tr>\n",
       "      <th>25%</th>\n",
       "      <td>47.000000</td>\n",
       "      <td>0.000000</td>\n",
       "      <td>120.000000</td>\n",
       "      <td>211.250000</td>\n",
       "      <td>0.000000</td>\n",
       "      <td>0.000000</td>\n",
       "      <td>133.250000</td>\n",
       "      <td>0.000000</td>\n",
       "      <td>0.000000</td>\n",
       "      <td>1.000000</td>\n",
       "      <td>0.000000</td>\n",
       "      <td>2.000000</td>\n",
       "    </tr>\n",
       "    <tr>\n",
       "      <th>50%</th>\n",
       "      <td>55.000000</td>\n",
       "      <td>1.000000</td>\n",
       "      <td>130.000000</td>\n",
       "      <td>240.000000</td>\n",
       "      <td>0.000000</td>\n",
       "      <td>1.000000</td>\n",
       "      <td>152.000000</td>\n",
       "      <td>0.000000</td>\n",
       "      <td>0.800000</td>\n",
       "      <td>1.000000</td>\n",
       "      <td>0.000000</td>\n",
       "      <td>2.000000</td>\n",
       "    </tr>\n",
       "    <tr>\n",
       "      <th>75%</th>\n",
       "      <td>61.000000</td>\n",
       "      <td>2.000000</td>\n",
       "      <td>140.000000</td>\n",
       "      <td>274.750000</td>\n",
       "      <td>0.000000</td>\n",
       "      <td>1.000000</td>\n",
       "      <td>166.000000</td>\n",
       "      <td>1.000000</td>\n",
       "      <td>1.700000</td>\n",
       "      <td>2.000000</td>\n",
       "      <td>1.000000</td>\n",
       "      <td>3.000000</td>\n",
       "    </tr>\n",
       "    <tr>\n",
       "      <th>max</th>\n",
       "      <td>77.000000</td>\n",
       "      <td>3.000000</td>\n",
       "      <td>200.000000</td>\n",
       "      <td>564.000000</td>\n",
       "      <td>1.000000</td>\n",
       "      <td>2.000000</td>\n",
       "      <td>202.000000</td>\n",
       "      <td>1.000000</td>\n",
       "      <td>6.200000</td>\n",
       "      <td>2.000000</td>\n",
       "      <td>4.000000</td>\n",
       "      <td>3.000000</td>\n",
       "    </tr>\n",
       "  </tbody>\n",
       "</table>\n",
       "</div>"
      ],
      "text/plain": [
       "              age          cp    trestbps  ...       slope          ca        thal\n",
       "count  297.000000  307.000000  294.000000  ...  307.000000  307.000000  307.000000\n",
       "mean    54.340067    0.960912  131.374150  ...    1.394137    0.732899    2.309446\n",
       "std      9.087163    1.031420   17.167201  ...    0.619164    1.022776    0.619937\n",
       "min     29.000000    0.000000   94.000000  ...    0.000000    0.000000    0.000000\n",
       "25%     47.000000    0.000000  120.000000  ...    1.000000    0.000000    2.000000\n",
       "50%     55.000000    1.000000  130.000000  ...    1.000000    0.000000    2.000000\n",
       "75%     61.000000    2.000000  140.000000  ...    2.000000    1.000000    3.000000\n",
       "max     77.000000    3.000000  200.000000  ...    2.000000    4.000000    3.000000\n",
       "\n",
       "[8 rows x 12 columns]"
      ]
     },
     "execution_count": 10,
     "metadata": {
      "tags": []
     },
     "output_type": "execute_result"
    }
   ],
   "source": [
    "heart_prediction_dataset.describe()"
   ]
  },
  {
   "cell_type": "markdown",
   "metadata": {
    "id": "aL6i7ThxDHaK"
   },
   "source": [
    "### **Single feature in one plot:**"
   ]
  },
  {
   "cell_type": "code",
   "execution_count": 11,
   "metadata": {
    "colab": {
     "base_uri": "https://localhost:8080/",
     "height": 33
    },
    "executionInfo": {
     "elapsed": 3828,
     "status": "ok",
     "timestamp": 1601279039659,
     "user": {
      "displayName": "Mostofa Kamal Sagor",
      "photoUrl": "https://lh3.googleusercontent.com/a-/AOh14GjKkF3hCXuG4vu_kbbt9ktNbBjA1ZSnubKiggAY=s64",
      "userId": "16260421205970331398"
     },
     "user_tz": -360
    },
    "id": "tfety3Uk0bKj",
    "outputId": "c980b5e0-7684-4e2f-f00e-1b5c7e391fda"
   },
   "outputs": [
    {
     "data": {
      "text/plain": [
       "307"
      ]
     },
     "execution_count": 11,
     "metadata": {
      "tags": []
     },
     "output_type": "execute_result"
    }
   ],
   "source": [
    "heart_prediction_dataset.shape[0]"
   ]
  },
  {
   "cell_type": "code",
   "execution_count": 12,
   "metadata": {
    "colab": {
     "base_uri": "https://localhost:8080/",
     "height": 312
    },
    "executionInfo": {
     "elapsed": 3817,
     "status": "ok",
     "timestamp": 1601279039660,
     "user": {
      "displayName": "Mostofa Kamal Sagor",
      "photoUrl": "https://lh3.googleusercontent.com/a-/AOh14GjKkF3hCXuG4vu_kbbt9ktNbBjA1ZSnubKiggAY=s64",
      "userId": "16260421205970331398"
     },
     "user_tz": -360
    },
    "id": "MMxL_z-j_pnC",
    "outputId": "c02402a9-4645-4f86-8cf3-ade9d7f846dc"
   },
   "outputs": [
    {
     "data": {
      "text/plain": [
       "Text(0, 0.5, 'age')"
      ]
     },
     "execution_count": 12,
     "metadata": {
      "tags": []
     },
     "output_type": "execute_result"
    },
    {
     "data": {
      "text/plain": [
       "<Figure size 1440x1440 with 0 Axes>"
      ]
     },
     "metadata": {
      "tags": []
     },
     "output_type": "display_data"
    },
    {
     "data": {
      "image/png": "[encoded data removed]",
      "text/plain": [
       "<Figure size 432x288 with 1 Axes>"
      ]
     },
     "metadata": {
      "needs_background": "light",
      "tags": []
     },
     "output_type": "display_data"
    }
   ],
   "source": [
    "ageData=range(0,heart_prediction_dataset.shape[0])\n",
    "graph1=plt.figure(figsize=(20,20))\n",
    "graph1,axis1=plt.subplots()\n",
    "axis1.plot(ageData,heart_prediction_dataset['age'],marker='v',color='g')\n",
    "axis1.set_xlabel('row count')\n",
    "axis1.set_ylabel('age')"
   ]
  },
  {
   "cell_type": "code",
   "execution_count": 13,
   "metadata": {
    "colab": {
     "base_uri": "https://localhost:8080/",
     "height": 33
    },
    "executionInfo": {
     "elapsed": 3807,
     "status": "ok",
     "timestamp": 1601279039661,
     "user": {
      "displayName": "Mostofa Kamal Sagor",
      "photoUrl": "https://lh3.googleusercontent.com/a-/AOh14GjKkF3hCXuG4vu_kbbt9ktNbBjA1ZSnubKiggAY=s64",
      "userId": "16260421205970331398"
     },
     "user_tz": -360
    },
    "id": "9Q2sa66E0idC",
    "outputId": "2c0aa7f1-9af0-4680-cb1f-7ca5bf273f8a"
   },
   "outputs": [
    {
     "data": {
      "text/plain": [
       "range(0, 307)"
      ]
     },
     "execution_count": 13,
     "metadata": {
      "tags": []
     },
     "output_type": "execute_result"
    }
   ],
   "source": [
    "ageData"
   ]
  },
  {
   "cell_type": "code",
   "execution_count": 14,
   "metadata": {
    "colab": {
     "base_uri": "https://localhost:8080/",
     "height": 312
    },
    "executionInfo": {
     "elapsed": 3797,
     "status": "ok",
     "timestamp": 1601279039662,
     "user": {
      "displayName": "Mostofa Kamal Sagor",
      "photoUrl": "https://lh3.googleusercontent.com/a-/AOh14GjKkF3hCXuG4vu_kbbt9ktNbBjA1ZSnubKiggAY=s64",
      "userId": "16260421205970331398"
     },
     "user_tz": -360
    },
    "id": "0-ZKCxHf9yVC",
    "outputId": "b36f8097-eb00-4e1e-cc81-0dae260b07fe"
   },
   "outputs": [
    {
     "data": {
      "text/plain": [
       "Text(0, 0.5, 'chol')"
      ]
     },
     "execution_count": 14,
     "metadata": {
      "tags": []
     },
     "output_type": "execute_result"
    },
    {
     "data": {
      "text/plain": [
       "<Figure size 1440x1440 with 0 Axes>"
      ]
     },
     "metadata": {
      "tags": []
     },
     "output_type": "display_data"
    },
    {
     "data": {
      "image/png": "[encoded data removed]",
      "text/plain": [
       "<Figure size 432x288 with 1 Axes>"
      ]
     },
     "metadata": {
      "needs_background": "light",
      "tags": []
     },
     "output_type": "display_data"
    }
   ],
   "source": [
    "cholData=range(0,heart_prediction_dataset.shape[0])\n",
    "graph2=plt.figure(figsize=(20,20))\n",
    "graph2,axis2=plt.subplots()\n",
    "axis2.plot(cholData,heart_prediction_dataset['chol'],marker='o',color='b')\n",
    "axis2.set_xlabel('row count')\n",
    "axis2.set_ylabel('chol')"
   ]
  },
  {
   "cell_type": "code",
   "execution_count": 15,
   "metadata": {
    "colab": {
     "base_uri": "https://localhost:8080/",
     "height": 33
    },
    "executionInfo": {
     "elapsed": 3786,
     "status": "ok",
     "timestamp": 1601279039663,
     "user": {
      "displayName": "Mostofa Kamal Sagor",
      "photoUrl": "https://lh3.googleusercontent.com/a-/AOh14GjKkF3hCXuG4vu_kbbt9ktNbBjA1ZSnubKiggAY=s64",
      "userId": "16260421205970331398"
     },
     "user_tz": -360
    },
    "id": "QNuwAY6X0noX",
    "outputId": "22847752-1a3c-44e1-db01-4f0726914471"
   },
   "outputs": [
    {
     "data": {
      "text/plain": [
       "range(0, 307)"
      ]
     },
     "execution_count": 15,
     "metadata": {
      "tags": []
     },
     "output_type": "execute_result"
    }
   ],
   "source": [
    "cholData"
   ]
  },
  {
   "cell_type": "code",
   "execution_count": 16,
   "metadata": {
    "colab": {
     "base_uri": "https://localhost:8080/",
     "height": 312
    },
    "executionInfo": {
     "elapsed": 5032,
     "status": "ok",
     "timestamp": 1601279040922,
     "user": {
      "displayName": "Mostofa Kamal Sagor",
      "photoUrl": "https://lh3.googleusercontent.com/a-/AOh14GjKkF3hCXuG4vu_kbbt9ktNbBjA1ZSnubKiggAY=s64",
      "userId": "16260421205970331398"
     },
     "user_tz": -360
    },
    "id": "9lP_wN08_Pqq",
    "outputId": "e51ab514-b4ee-4995-84e2-ee95c959cbb0"
   },
   "outputs": [
    {
     "data": {
      "text/plain": [
       "Text(17.200000000000003, 0.5, 'target')"
      ]
     },
     "execution_count": 16,
     "metadata": {
      "tags": []
     },
     "output_type": "execute_result"
    },
    {
     "data": {
      "text/plain": [
       "<Figure size 1440x1440 with 0 Axes>"
      ]
     },
     "metadata": {
      "tags": []
     },
     "output_type": "display_data"
    },
    {
     "data": {
      "image/png": "[encoded data removed]",
      "text/plain": [
       "<Figure size 432x288 with 1 Axes>"
      ]
     },
     "metadata": {
      "needs_background": "light",
      "tags": []
     },
     "output_type": "display_data"
    }
   ],
   "source": [
    "heartDisease=range(0,heart_prediction_dataset.shape[0])\n",
    "graph3=plt.figure(figsize=(20,20))\n",
    "graph3,axis3=plt.subplots()\n",
    "axis3.plot(heartDisease,heart_prediction_dataset['target'],marker='x',color='r')\n",
    "axis3.set_xlabel('row count')\n",
    "axis2.set_ylabel('target')"
   ]
  },
  {
   "cell_type": "code",
   "execution_count": 17,
   "metadata": {
    "colab": {
     "base_uri": "https://localhost:8080/",
     "height": 33
    },
    "executionInfo": {
     "elapsed": 5021,
     "status": "ok",
     "timestamp": 1601279040923,
     "user": {
      "displayName": "Mostofa Kamal Sagor",
      "photoUrl": "https://lh3.googleusercontent.com/a-/AOh14GjKkF3hCXuG4vu_kbbt9ktNbBjA1ZSnubKiggAY=s64",
      "userId": "16260421205970331398"
     },
     "user_tz": -360
    },
    "id": "uFejp5B00rsq",
    "outputId": "2f566032-6d6a-44ab-fa60-461e33abf7d9"
   },
   "outputs": [
    {
     "data": {
      "text/plain": [
       "range(0, 307)"
      ]
     },
     "execution_count": 17,
     "metadata": {
      "tags": []
     },
     "output_type": "execute_result"
    }
   ],
   "source": [
    "heartDisease"
   ]
  },
  {
   "cell_type": "markdown",
   "metadata": {
    "id": "lTQ45r14C6uq"
   },
   "source": [
    "### **Two features in one plot:**"
   ]
  },
  {
   "cell_type": "code",
   "execution_count": 18,
   "metadata": {
    "colab": {
     "base_uri": "https://localhost:8080/",
     "height": 282
    },
    "executionInfo": {
     "elapsed": 5009,
     "status": "ok",
     "timestamp": 1601279040924,
     "user": {
      "displayName": "Mostofa Kamal Sagor",
      "photoUrl": "https://lh3.googleusercontent.com/a-/AOh14GjKkF3hCXuG4vu_kbbt9ktNbBjA1ZSnubKiggAY=s64",
      "userId": "16260421205970331398"
     },
     "user_tz": -360
    },
    "id": "_JzSOTAGBlNr",
    "outputId": "76095085-41cd-48b4-b13b-7ab7f19633f2"
   },
   "outputs": [
    {
     "data": {
      "text/plain": [
       "<Figure size 1440x1440 with 0 Axes>"
      ]
     },
     "metadata": {
      "tags": []
     },
     "output_type": "display_data"
    },
    {
     "data": {
      "image/png": "[encoded data removed]",
      "text/plain": [
       "<Figure size 432x288 with 1 Axes>"
      ]
     },
     "metadata": {
      "needs_background": "light",
      "tags": []
     },
     "output_type": "display_data"
    }
   ],
   "source": [
    "data2=range(0,heart_prediction_dataset.shape[0])\n",
    "graph5=plt.figure(figsize=(20,20))\n",
    "graph5,axis5=plt.subplots()\n",
    "for crosscheck in ['age','chol']:\n",
    "  axis5.plot(data2,heart_prediction_dataset[crosscheck])"
   ]
  },
  {
   "cell_type": "markdown",
   "metadata": {
    "id": "KpKJ958HDMX-"
   },
   "source": [
    "###**Scatter plot :**"
   ]
  },
  {
   "cell_type": "code",
   "execution_count": 19,
   "metadata": {
    "colab": {
     "base_uri": "https://localhost:8080/",
     "height": 296
    },
    "executionInfo": {
     "elapsed": 4999,
     "status": "ok",
     "timestamp": 1601279040924,
     "user": {
      "displayName": "Mostofa Kamal Sagor",
      "photoUrl": "https://lh3.googleusercontent.com/a-/AOh14GjKkF3hCXuG4vu_kbbt9ktNbBjA1ZSnubKiggAY=s64",
      "userId": "16260421205970331398"
     },
     "user_tz": -360
    },
    "id": "cuLGkHFAC43I",
    "outputId": "c47db014-11d9-4514-f5c6-c772f27be295"
   },
   "outputs": [
    {
     "data": {
      "text/plain": [
       "Text(0, 0.5, 'tresbps')"
      ]
     },
     "execution_count": 19,
     "metadata": {
      "tags": []
     },
     "output_type": "execute_result"
    },
    {
     "data": {
      "image/png": "[encoded data removed]",
      "text/plain": [
       "<Figure size 432x288 with 1 Axes>"
      ]
     },
     "metadata": {
      "needs_background": "light",
      "tags": []
     },
     "output_type": "display_data"
    }
   ],
   "source": [
    "graph6,axis6=plt.subplots()\n",
    "axis6.scatter(heart_prediction_dataset['thalach'],heart_prediction_dataset['trestbps'])\n",
    "axis6.set_xlabel('thalach')\n",
    "axis6.set_ylabel('tresbps')"
   ]
  },
  {
   "cell_type": "markdown",
   "metadata": {
    "id": "WGSmm9gOx-MS"
   },
   "source": [
    "##**Visualizing the Data Set, if it is balanced or not?**"
   ]
  },
  {
   "cell_type": "code",
   "execution_count": 20,
   "metadata": {
    "colab": {
     "base_uri": "https://localhost:8080/",
     "height": 296
    },
    "executionInfo": {
     "elapsed": 4989,
     "status": "ok",
     "timestamp": 1601279040925,
     "user": {
      "displayName": "Mostofa Kamal Sagor",
      "photoUrl": "https://lh3.googleusercontent.com/a-/AOh14GjKkF3hCXuG4vu_kbbt9ktNbBjA1ZSnubKiggAY=s64",
      "userId": "16260421205970331398"
     },
     "user_tz": -360
    },
    "id": "CExTc0yWO_H-",
    "outputId": "600b1087-c215-42b9-ab96-2b8b63b226ab"
   },
   "outputs": [
    {
     "data": {
      "text/plain": [
       "<matplotlib.axes._subplots.AxesSubplot at 0x7fd942ea04e0>"
      ]
     },
     "execution_count": 20,
     "metadata": {
      "tags": []
     },
     "output_type": "execute_result"
    },
    {
     "data": {
      "image/png": "[encoded data removed]",
      "text/plain": [
       "<Figure size 432x288 with 1 Axes>"
      ]
     },
     "metadata": {
      "tags": []
     },
     "output_type": "display_data"
    }
   ],
   "source": [
    "sns.set_style('whitegrid')\n",
    "sns.countplot(x='sex',data=heart_prediction_dataset,palette='dark')"
   ]
  },
  {
   "cell_type": "markdown",
   "metadata": {
    "id": "WBGlY_WlQ8yT"
   },
   "source": [
    "**Comment : Checking balance-01: Female(0) vs Male(1)**"
   ]
  },
  {
   "cell_type": "code",
   "execution_count": 21,
   "metadata": {
    "colab": {
     "base_uri": "https://localhost:8080/",
     "height": 296
    },
    "executionInfo": {
     "elapsed": 4980,
     "status": "ok",
     "timestamp": 1601279040927,
     "user": {
      "displayName": "Mostofa Kamal Sagor",
      "photoUrl": "https://lh3.googleusercontent.com/a-/AOh14GjKkF3hCXuG4vu_kbbt9ktNbBjA1ZSnubKiggAY=s64",
      "userId": "16260421205970331398"
     },
     "user_tz": -360
    },
    "id": "Wh-rD0vwbrFO",
    "outputId": "b9981d1a-48e8-4fa9-c959-dd45798931b3"
   },
   "outputs": [
    {
     "data": {
      "text/plain": [
       "<matplotlib.axes._subplots.AxesSubplot at 0x7fd942e71da0>"
      ]
     },
     "execution_count": 21,
     "metadata": {
      "tags": []
     },
     "output_type": "execute_result"
    },
    {
     "data": {
      "image/png": "[encoded data removed]",
      "text/plain": [
       "<Figure size 432x288 with 1 Axes>"
      ]
     },
     "metadata": {
      "tags": []
     },
     "output_type": "display_data"
    }
   ],
   "source": [
    "sns.set_style('whitegrid')\n",
    "sns.countplot(x='target',data=heart_prediction_dataset,palette='hls')"
   ]
  },
  {
   "cell_type": "markdown",
   "metadata": {
    "id": "bAQS7yf-Qsjt"
   },
   "source": [
    "**Comment : Checking balance-02: Healthy(0) vs Not healthy/have heart disease(1)**"
   ]
  },
  {
   "cell_type": "markdown",
   "metadata": {
    "id": "855XqJRs275y"
   },
   "source": [
    "## **Histogram of the features[Individual representation]** "
   ]
  },
  {
   "cell_type": "code",
   "execution_count": 22,
   "metadata": {
    "colab": {
     "base_uri": "https://localhost:8080/",
     "height": 1000
    },
    "executionInfo": {
     "elapsed": 8866,
     "status": "ok",
     "timestamp": 1601279044824,
     "user": {
      "displayName": "Mostofa Kamal Sagor",
      "photoUrl": "https://lh3.googleusercontent.com/a-/AOh14GjKkF3hCXuG4vu_kbbt9ktNbBjA1ZSnubKiggAY=s64",
      "userId": "16260421205970331398"
     },
     "user_tz": -360
    },
    "id": "wqRewfzy28s1",
    "outputId": "e9219203-7a38-4635-c6a4-3211776c55bb"
   },
   "outputs": [
    {
     "data": {
      "text/plain": [
       "array([[<matplotlib.axes._subplots.AxesSubplot object at 0x7fd942d8e080>,\n",
       "        <matplotlib.axes._subplots.AxesSubplot object at 0x7fd942d3b710>,\n",
       "        <matplotlib.axes._subplots.AxesSubplot object at 0x7fd942d68d68>],\n",
       "       [<matplotlib.axes._subplots.AxesSubplot object at 0x7fd942d27400>,\n",
       "        <matplotlib.axes._subplots.AxesSubplot object at 0x7fd942cd7a58>,\n",
       "        <matplotlib.axes._subplots.AxesSubplot object at 0x7fd942c940f0>],\n",
       "       [<matplotlib.axes._subplots.AxesSubplot object at 0x7fd942c44748>,\n",
       "        <matplotlib.axes._subplots.AxesSubplot object at 0x7fd942c76d68>,\n",
       "        <matplotlib.axes._subplots.AxesSubplot object at 0x7fd942c76dd8>],\n",
       "       [<matplotlib.axes._subplots.AxesSubplot object at 0x7fd942be3a90>,\n",
       "        <matplotlib.axes._subplots.AxesSubplot object at 0x7fd942ba2128>,\n",
       "        <matplotlib.axes._subplots.AxesSubplot object at 0x7fd942b52780>]],\n",
       "      dtype=object)"
      ]
     },
     "execution_count": 22,
     "metadata": {
      "tags": []
     },
     "output_type": "execute_result"
    },
    {
     "data": {
      "image/png": "[encoded data removed]",
      "text/plain": [
       "<Figure size 1440x1440 with 12 Axes>"
      ]
     },
     "metadata": {
      "tags": []
     },
     "output_type": "display_data"
    }
   ],
   "source": [
    "heart_prediction_dataset.hist(figsize=(20,20))"
   ]
  },
  {
   "cell_type": "markdown",
   "metadata": {
    "id": "RLfBpR8roJ3-"
   },
   "source": [
    "**Comment :** *Skips the categorical valued columns*"
   ]
  },
  {
   "cell_type": "markdown",
   "metadata": {
    "id": "8XEbx0slLQtA"
   },
   "source": [
    "# ***Step:03***"
   ]
  },
  {
   "cell_type": "markdown",
   "metadata": {
    "id": "oOIlSEbPb_wK"
   },
   "source": [
    "# **Data Preprocessing**\n",
    "\n"
   ]
  },
  {
   "cell_type": "markdown",
   "metadata": {
    "id": "BB6RBTQ71PIT"
   },
   "source": [
    "##**[a]Encoding the categorical variables using binary classifier :**"
   ]
  },
  {
   "cell_type": "markdown",
   "metadata": {
    "id": "vgJFFk_wU78i"
   },
   "source": [
    "***Technique-01: Using built-in map() function***"
   ]
  },
  {
   "cell_type": "code",
   "execution_count": 23,
   "metadata": {
    "colab": {
     "base_uri": "https://localhost:8080/",
     "height": 50
    },
    "executionInfo": {
     "elapsed": 8856,
     "status": "ok",
     "timestamp": 1601279044827,
     "user": {
      "displayName": "Mostofa Kamal Sagor",
      "photoUrl": "https://lh3.googleusercontent.com/a-/AOh14GjKkF3hCXuG4vu_kbbt9ktNbBjA1ZSnubKiggAY=s64",
      "userId": "16260421205970331398"
     },
     "user_tz": -360
    },
    "id": "vYIViECAN4VF",
    "outputId": "387c36f1-96e4-4159-c0c2-318f0d853416"
   },
   "outputs": [
    {
     "name": "stdout",
     "output_type": "stream",
     "text": [
      "Before mapping: ['M' 'F']\n",
      "After mapping: [1 0]\n"
     ]
    }
   ],
   "source": [
    "print(\"Before mapping:\",heart_prediction_dataset['sex'].unique())\n",
    "heart_prediction_dataset['sex']=heart_prediction_dataset['sex'].map({\"M\":1,\"F\":0})\n",
    "print(\"After mapping:\",heart_prediction_dataset['sex'].unique())"
   ]
  },
  {
   "cell_type": "code",
   "execution_count": 24,
   "metadata": {
    "executionInfo": {
     "elapsed": 8846,
     "status": "ok",
     "timestamp": 1601279044829,
     "user": {
      "displayName": "Mostofa Kamal Sagor",
      "photoUrl": "https://lh3.googleusercontent.com/a-/AOh14GjKkF3hCXuG4vu_kbbt9ktNbBjA1ZSnubKiggAY=s64",
      "userId": "16260421205970331398"
     },
     "user_tz": -360
    },
    "id": "ByBV2SVWzHgB"
   },
   "outputs": [],
   "source": [
    "# using different variable to store the dataset\n",
    "cdSet=heart_prediction_dataset"
   ]
  },
  {
   "cell_type": "markdown",
   "metadata": {
    "id": "KS-HzIULVF-d"
   },
   "source": [
    "***Technique-02: Using LabelEncoder class's object***"
   ]
  },
  {
   "cell_type": "code",
   "execution_count": 25,
   "metadata": {
    "executionInfo": {
     "elapsed": 8835,
     "status": "ok",
     "timestamp": 1601279044830,
     "user": {
      "displayName": "Mostofa Kamal Sagor",
      "photoUrl": "https://lh3.googleusercontent.com/a-/AOh14GjKkF3hCXuG4vu_kbbt9ktNbBjA1ZSnubKiggAY=s64",
      "userId": "16260421205970331398"
     },
     "user_tz": -360
    },
    "id": "fzZ-4bBC3VQa"
   },
   "outputs": [],
   "source": [
    "from sklearn.preprocessing import LabelEncoder\n",
    "#Creating an encoding object\n",
    "encode=LabelEncoder()"
   ]
  },
  {
   "cell_type": "code",
   "execution_count": 26,
   "metadata": {
    "colab": {
     "base_uri": "https://localhost:8080/",
     "height": 394
    },
    "executionInfo": {
     "elapsed": 8821,
     "status": "ok",
     "timestamp": 1601279044831,
     "user": {
      "displayName": "Mostofa Kamal Sagor",
      "photoUrl": "https://lh3.googleusercontent.com/a-/AOh14GjKkF3hCXuG4vu_kbbt9ktNbBjA1ZSnubKiggAY=s64",
      "userId": "16260421205970331398"
     },
     "user_tz": -360
    },
    "id": "pwjwFNiD_uD5",
    "outputId": "11876e2d-914b-46e3-c8b9-97403bc8ee39"
   },
   "outputs": [
    {
     "data": {
      "text/html": [
       "<div>\n",
       "<style scoped>\n",
       "    .dataframe tbody tr th:only-of-type {\n",
       "        vertical-align: middle;\n",
       "    }\n",
       "\n",
       "    .dataframe tbody tr th {\n",
       "        vertical-align: top;\n",
       "    }\n",
       "\n",
       "    .dataframe thead th {\n",
       "        text-align: right;\n",
       "    }\n",
       "</style>\n",
       "<table border=\"1\" class=\"dataframe\">\n",
       "  <thead>\n",
       "    <tr style=\"text-align: right;\">\n",
       "      <th></th>\n",
       "      <th>target</th>\n",
       "      <th>heart_attack_possibility</th>\n",
       "    </tr>\n",
       "  </thead>\n",
       "  <tbody>\n",
       "    <tr>\n",
       "      <th>0</th>\n",
       "      <td>yes</td>\n",
       "      <td>1</td>\n",
       "    </tr>\n",
       "    <tr>\n",
       "      <th>1</th>\n",
       "      <td>yes</td>\n",
       "      <td>1</td>\n",
       "    </tr>\n",
       "    <tr>\n",
       "      <th>2</th>\n",
       "      <td>yes</td>\n",
       "      <td>1</td>\n",
       "    </tr>\n",
       "    <tr>\n",
       "      <th>3</th>\n",
       "      <td>yes</td>\n",
       "      <td>1</td>\n",
       "    </tr>\n",
       "    <tr>\n",
       "      <th>4</th>\n",
       "      <td>yes</td>\n",
       "      <td>1</td>\n",
       "    </tr>\n",
       "    <tr>\n",
       "      <th>...</th>\n",
       "      <td>...</td>\n",
       "      <td>...</td>\n",
       "    </tr>\n",
       "    <tr>\n",
       "      <th>292</th>\n",
       "      <td>no</td>\n",
       "      <td>0</td>\n",
       "    </tr>\n",
       "    <tr>\n",
       "      <th>293</th>\n",
       "      <td>no</td>\n",
       "      <td>0</td>\n",
       "    </tr>\n",
       "    <tr>\n",
       "      <th>294</th>\n",
       "      <td>no</td>\n",
       "      <td>0</td>\n",
       "    </tr>\n",
       "    <tr>\n",
       "      <th>295</th>\n",
       "      <td>no</td>\n",
       "      <td>0</td>\n",
       "    </tr>\n",
       "    <tr>\n",
       "      <th>296</th>\n",
       "      <td>no</td>\n",
       "      <td>0</td>\n",
       "    </tr>\n",
       "  </tbody>\n",
       "</table>\n",
       "<p>297 rows × 2 columns</p>\n",
       "</div>"
      ],
      "text/plain": [
       "    target  heart_attack_possibility\n",
       "0      yes                         1\n",
       "1      yes                         1\n",
       "2      yes                         1\n",
       "3      yes                         1\n",
       "4      yes                         1\n",
       "..     ...                       ...\n",
       "292     no                         0\n",
       "293     no                         0\n",
       "294     no                         0\n",
       "295     no                         0\n",
       "296     no                         0\n",
       "\n",
       "[297 rows x 2 columns]"
      ]
     },
     "execution_count": 26,
     "metadata": {
      "tags": []
     },
     "output_type": "execute_result"
    }
   ],
   "source": [
    "cdSet['heart_attack_possibility']=encode.fit_transform(heart_prediction_dataset['target'])\n",
    "cdSet[['target','heart_attack_possibility']].head(-10)"
   ]
  },
  {
   "cell_type": "code",
   "execution_count": 27,
   "metadata": {
    "colab": {
     "base_uri": "https://localhost:8080/",
     "height": 50
    },
    "executionInfo": {
     "elapsed": 8808,
     "status": "ok",
     "timestamp": 1601279044831,
     "user": {
      "displayName": "Mostofa Kamal Sagor",
      "photoUrl": "https://lh3.googleusercontent.com/a-/AOh14GjKkF3hCXuG4vu_kbbt9ktNbBjA1ZSnubKiggAY=s64",
      "userId": "16260421205970331398"
     },
     "user_tz": -360
    },
    "id": "2V1SLuJ5_wgb",
    "outputId": "2b49acbb-92ed-40a0-c90a-39a6efbf6ef5"
   },
   "outputs": [
    {
     "name": "stdout",
     "output_type": "stream",
     "text": [
      "Unique values of 'target' column before trasformation:  ['yes' 'no']\n",
      "Unique values of 'target' column after trasformation:  [1 0]\n"
     ]
    }
   ],
   "source": [
    "print(\"Unique values of 'target' column before trasformation: \",cdSet['target'].unique())\n",
    "cdSet['target']=encode.fit_transform(heart_prediction_dataset['target'])\n",
    "print(\"Unique values of 'target' column after trasformation: \",cdSet['target'].unique())"
   ]
  },
  {
   "cell_type": "code",
   "execution_count": 28,
   "metadata": {
    "colab": {
     "base_uri": "https://localhost:8080/",
     "height": 50
    },
    "executionInfo": {
     "elapsed": 8797,
     "status": "ok",
     "timestamp": 1601279044832,
     "user": {
      "displayName": "Mostofa Kamal Sagor",
      "photoUrl": "https://lh3.googleusercontent.com/a-/AOh14GjKkF3hCXuG4vu_kbbt9ktNbBjA1ZSnubKiggAY=s64",
      "userId": "16260421205970331398"
     },
     "user_tz": -360
    },
    "id": "PCkDmr7TBdXj",
    "outputId": "751cfd64-86b5-4005-ee0f-cb60b056d747"
   },
   "outputs": [
    {
     "name": "stdout",
     "output_type": "stream",
     "text": [
      "Shape of the dataset before dropping the column 'heart_attack_possibility' (307, 15)\n",
      "Shape of the dataset after dropping the column 'heart_attack_possibility' (307, 14)\n"
     ]
    }
   ],
   "source": [
    "print(\"Shape of the dataset before dropping the column 'heart_attack_possibility'\",cdSet.shape)\n",
    "cdSet=cdSet.drop('heart_attack_possibility',axis=1)\n",
    "print(\"Shape of the dataset after dropping the column 'heart_attack_possibility'\",cdSet.shape)"
   ]
  },
  {
   "cell_type": "markdown",
   "metadata": {
    "id": "JXH2DNs61Aeq"
   },
   "source": [
    "##**[b] Deleting the NaN or missing value containing rows for 'trestbps' and 'thalach' columns :**"
   ]
  },
  {
   "cell_type": "code",
   "execution_count": 29,
   "metadata": {
    "colab": {
     "base_uri": "https://localhost:8080/",
     "height": 33
    },
    "executionInfo": {
     "elapsed": 8786,
     "status": "ok",
     "timestamp": 1601279044833,
     "user": {
      "displayName": "Mostofa Kamal Sagor",
      "photoUrl": "https://lh3.googleusercontent.com/a-/AOh14GjKkF3hCXuG4vu_kbbt9ktNbBjA1ZSnubKiggAY=s64",
      "userId": "16260421205970331398"
     },
     "user_tz": -360
    },
    "id": "WN4xLMdMdg_9",
    "outputId": "7d033b35-f5e8-4ce2-be21-4e6867e92be1"
   },
   "outputs": [
    {
     "name": "stdout",
     "output_type": "stream",
     "text": [
      "Before removing the NaN values, , total null valued rows :  45\n"
     ]
    }
   ],
   "source": [
    "#Checking out the total null value count in the dataset\n",
    "nullValues=[x for x in cdSet.isnull().sum() if x!=0]\n",
    "print(\"Before removing the NaN values, , total null valued rows : \",sum(nullValues))"
   ]
  },
  {
   "cell_type": "code",
   "execution_count": 30,
   "metadata": {
    "colab": {
     "base_uri": "https://localhost:8080/",
     "height": 33
    },
    "executionInfo": {
     "elapsed": 8774,
     "status": "ok",
     "timestamp": 1601279044833,
     "user": {
      "displayName": "Mostofa Kamal Sagor",
      "photoUrl": "https://lh3.googleusercontent.com/a-/AOh14GjKkF3hCXuG4vu_kbbt9ktNbBjA1ZSnubKiggAY=s64",
      "userId": "16260421205970331398"
     },
     "user_tz": -360
    },
    "id": "6UAciImMtSb0",
    "outputId": "e0737fc9-aa15-4793-f508-6cbbb928fb1e"
   },
   "outputs": [
    {
     "data": {
      "text/plain": [
       "{'age': 10, 'chol': 9, 'thalach': 13, 'trestbps': 13}"
      ]
     },
     "execution_count": 30,
     "metadata": {
      "tags": []
     },
     "output_type": "execute_result"
    }
   ],
   "source": [
    "#Making a dictionary using the null value sum with respect to the features\n",
    "{k:v for k,v in cdSet.isnull().sum().items() if v!=0}"
   ]
  },
  {
   "cell_type": "code",
   "execution_count": 31,
   "metadata": {
    "colab": {
     "base_uri": "https://localhost:8080/",
     "height": 33
    },
    "executionInfo": {
     "elapsed": 8763,
     "status": "ok",
     "timestamp": 1601279044834,
     "user": {
      "displayName": "Mostofa Kamal Sagor",
      "photoUrl": "https://lh3.googleusercontent.com/a-/AOh14GjKkF3hCXuG4vu_kbbt9ktNbBjA1ZSnubKiggAY=s64",
      "userId": "16260421205970331398"
     },
     "user_tz": -360
    },
    "id": "z_jNa2x_Mbp4",
    "outputId": "511efd47-c92b-4d93-fce8-72365e1e6426"
   },
   "outputs": [
    {
     "data": {
      "text/plain": [
       "(307, 14)"
      ]
     },
     "execution_count": 31,
     "metadata": {
      "tags": []
     },
     "output_type": "execute_result"
    }
   ],
   "source": [
    "cdSet.shape"
   ]
  },
  {
   "cell_type": "code",
   "execution_count": 32,
   "metadata": {
    "executionInfo": {
     "elapsed": 8751,
     "status": "ok",
     "timestamp": 1601279044835,
     "user": {
      "displayName": "Mostofa Kamal Sagor",
      "photoUrl": "https://lh3.googleusercontent.com/a-/AOh14GjKkF3hCXuG4vu_kbbt9ktNbBjA1ZSnubKiggAY=s64",
      "userId": "16260421205970331398"
     },
     "user_tz": -360
    },
    "id": "Sih64VA0eeRa"
   },
   "outputs": [],
   "source": [
    "cdSet=cdSet.dropna(axis=0,subset=['trestbps','thalach'])"
   ]
  },
  {
   "cell_type": "code",
   "execution_count": 33,
   "metadata": {
    "colab": {
     "base_uri": "https://localhost:8080/",
     "height": 33
    },
    "executionInfo": {
     "elapsed": 8740,
     "status": "ok",
     "timestamp": 1601279044835,
     "user": {
      "displayName": "Mostofa Kamal Sagor",
      "photoUrl": "https://lh3.googleusercontent.com/a-/AOh14GjKkF3hCXuG4vu_kbbt9ktNbBjA1ZSnubKiggAY=s64",
      "userId": "16260421205970331398"
     },
     "user_tz": -360
    },
    "id": "LMY9ThSIqsea",
    "outputId": "d84ae7d3-5f53-49d7-fa7a-48e3cb6b6539"
   },
   "outputs": [
    {
     "data": {
      "text/plain": [
       "(282, 14)"
      ]
     },
     "execution_count": 33,
     "metadata": {
      "tags": []
     },
     "output_type": "execute_result"
    }
   ],
   "source": [
    "cdSet.shape"
   ]
  },
  {
   "cell_type": "code",
   "execution_count": 34,
   "metadata": {
    "colab": {
     "base_uri": "https://localhost:8080/",
     "height": 33
    },
    "executionInfo": {
     "elapsed": 8730,
     "status": "ok",
     "timestamp": 1601279044836,
     "user": {
      "displayName": "Mostofa Kamal Sagor",
      "photoUrl": "https://lh3.googleusercontent.com/a-/AOh14GjKkF3hCXuG4vu_kbbt9ktNbBjA1ZSnubKiggAY=s64",
      "userId": "16260421205970331398"
     },
     "user_tz": -360
    },
    "id": "lpxBjJfPMAv8",
    "outputId": "fd6f079f-1a99-4dd4-f6c2-617c36752910"
   },
   "outputs": [
    {
     "name": "stdout",
     "output_type": "stream",
     "text": [
      "After removing the NaN values, total null valued rows :  16\n"
     ]
    }
   ],
   "source": [
    "#Checking out the total null value count in the dataset\n",
    "nullValues=[x for x in cdSet.isnull().sum() if x!=0]\n",
    "print(\"After removing the NaN values, total null valued rows : \",sum(nullValues))"
   ]
  },
  {
   "cell_type": "markdown",
   "metadata": {
    "id": "TvLl8NJAMeln"
   },
   "source": [
    "**Comment on NaN value removal** : *Only two columns are dealt over here ('trestbps','thalach') out of the four columns that contain NaN Values.*"
   ]
  },
  {
   "cell_type": "markdown",
   "metadata": {
    "id": "pyVtQuGWTn-V"
   },
   "source": [
    "##**[c] Imputing the missing values for 'age' and 'chol' columns:**"
   ]
  },
  {
   "cell_type": "code",
   "execution_count": 35,
   "metadata": {
    "executionInfo": {
     "elapsed": 8719,
     "status": "ok",
     "timestamp": 1601279044837,
     "user": {
      "displayName": "Mostofa Kamal Sagor",
      "photoUrl": "https://lh3.googleusercontent.com/a-/AOh14GjKkF3hCXuG4vu_kbbt9ktNbBjA1ZSnubKiggAY=s64",
      "userId": "16260421205970331398"
     },
     "user_tz": -360
    },
    "id": "qDN4jMgKPti9"
   },
   "outputs": [],
   "source": [
    "from sklearn.impute import SimpleImputer"
   ]
  },
  {
   "cell_type": "code",
   "execution_count": 36,
   "metadata": {
    "colab": {
     "base_uri": "https://localhost:8080/",
     "height": 33
    },
    "executionInfo": {
     "elapsed": 8709,
     "status": "ok",
     "timestamp": 1601279044837,
     "user": {
      "displayName": "Mostofa Kamal Sagor",
      "photoUrl": "https://lh3.googleusercontent.com/a-/AOh14GjKkF3hCXuG4vu_kbbt9ktNbBjA1ZSnubKiggAY=s64",
      "userId": "16260421205970331398"
     },
     "user_tz": -360
    },
    "id": "Zhh1qGjZTnb0",
    "outputId": "defa2381-fa20-4009-c099-dc84f0a1c7de"
   },
   "outputs": [
    {
     "data": {
      "text/plain": [
       "{'age': 9, 'chol': 7}"
      ]
     },
     "execution_count": 36,
     "metadata": {
      "tags": []
     },
     "output_type": "execute_result"
    }
   ],
   "source": [
    "{k:v for k,v in cdSet.isnull().sum().items() if v!=0}"
   ]
  },
  {
   "cell_type": "code",
   "execution_count": 37,
   "metadata": {
    "executionInfo": {
     "elapsed": 8699,
     "status": "ok",
     "timestamp": 1601279044838,
     "user": {
      "displayName": "Mostofa Kamal Sagor",
      "photoUrl": "https://lh3.googleusercontent.com/a-/AOh14GjKkF3hCXuG4vu_kbbt9ktNbBjA1ZSnubKiggAY=s64",
      "userId": "16260421205970331398"
     },
     "user_tz": -360
    },
    "id": "QGx5EbWmyR_J"
   },
   "outputs": [],
   "source": [
    "imputeValue1=SimpleImputer(missing_values=np.nan,strategy='most_frequent')\n",
    "imputeValue1.fit(cdSet[['age']])\n",
    "cdSet['age']=imputeValue1.transform(cdSet[['age']])"
   ]
  },
  {
   "cell_type": "markdown",
   "metadata": {
    "id": "ek7UukyC1el8"
   },
   "source": [
    "**Comment on the Imputation of 'age' column :** *'age' column has been fixed via putting the mean age by swapping the NaN valued ages.*"
   ]
  },
  {
   "cell_type": "code",
   "execution_count": 38,
   "metadata": {
    "colab": {
     "base_uri": "https://localhost:8080/",
     "height": 33
    },
    "executionInfo": {
     "elapsed": 8688,
     "status": "ok",
     "timestamp": 1601279044838,
     "user": {
      "displayName": "Mostofa Kamal Sagor",
      "photoUrl": "https://lh3.googleusercontent.com/a-/AOh14GjKkF3hCXuG4vu_kbbt9ktNbBjA1ZSnubKiggAY=s64",
      "userId": "16260421205970331398"
     },
     "user_tz": -360
    },
    "id": "4wMM-_P2zLrT",
    "outputId": "1a01f380-da1c-457a-d7d4-e7055510114e"
   },
   "outputs": [
    {
     "data": {
      "text/plain": [
       "{'chol': 7}"
      ]
     },
     "execution_count": 38,
     "metadata": {
      "tags": []
     },
     "output_type": "execute_result"
    }
   ],
   "source": [
    "{k:v for k,v in cdSet.isnull().sum().items() if v!=0}"
   ]
  },
  {
   "cell_type": "code",
   "execution_count": 39,
   "metadata": {
    "executionInfo": {
     "elapsed": 8679,
     "status": "ok",
     "timestamp": 1601279044839,
     "user": {
      "displayName": "Mostofa Kamal Sagor",
      "photoUrl": "https://lh3.googleusercontent.com/a-/AOh14GjKkF3hCXuG4vu_kbbt9ktNbBjA1ZSnubKiggAY=s64",
      "userId": "16260421205970331398"
     },
     "user_tz": -360
    },
    "id": "iOhFDvfK1J-d"
   },
   "outputs": [],
   "source": [
    "imputeValue2=SimpleImputer(missing_values=np.nan,strategy='most_frequent')\n",
    "imputeValue2.fit(cdSet[['chol']])\n",
    "cdSet['chol']=imputeValue2.transform(cdSet[['chol']])"
   ]
  },
  {
   "cell_type": "markdown",
   "metadata": {
    "id": "XKBAcrktH884"
   },
   "source": [
    "**Comment on the Imputation of 'chol' column :** *'chol' column has been fixed via putting the mean chol by swapping the NaN valued chols.*"
   ]
  },
  {
   "cell_type": "code",
   "execution_count": 40,
   "metadata": {
    "colab": {
     "base_uri": "https://localhost:8080/",
     "height": 33
    },
    "executionInfo": {
     "elapsed": 8669,
     "status": "ok",
     "timestamp": 1601279044839,
     "user": {
      "displayName": "Mostofa Kamal Sagor",
      "photoUrl": "https://lh3.googleusercontent.com/a-/AOh14GjKkF3hCXuG4vu_kbbt9ktNbBjA1ZSnubKiggAY=s64",
      "userId": "16260421205970331398"
     },
     "user_tz": -360
    },
    "id": "VAwy9LeN0JL1",
    "outputId": "586278fa-64db-4ab8-f785-dbbcb3ba9cb4"
   },
   "outputs": [
    {
     "data": {
      "text/plain": [
       "{}"
      ]
     },
     "execution_count": 40,
     "metadata": {
      "tags": []
     },
     "output_type": "execute_result"
    }
   ],
   "source": [
    "{k:v for k,v in cdSet.isnull().sum().items() if v!=0}"
   ]
  },
  {
   "cell_type": "markdown",
   "metadata": {
    "id": "uOWGO7Hr5Z_J"
   },
   "source": [
    "**Comment on NaN value exclusion :** *So more NaN values left as the dictionary for NaN container is now empty.*"
   ]
  },
  {
   "cell_type": "code",
   "execution_count": 41,
   "metadata": {
    "colab": {
     "base_uri": "https://localhost:8080/",
     "height": 33
    },
    "executionInfo": {
     "elapsed": 8657,
     "status": "ok",
     "timestamp": 1601279044840,
     "user": {
      "displayName": "Mostofa Kamal Sagor",
      "photoUrl": "https://lh3.googleusercontent.com/a-/AOh14GjKkF3hCXuG4vu_kbbt9ktNbBjA1ZSnubKiggAY=s64",
      "userId": "16260421205970331398"
     },
     "user_tz": -360
    },
    "id": "hGJn5-gX1z_A",
    "outputId": "eeb74b08-75ce-45f3-8889-5362bf7c5ddb"
   },
   "outputs": [
    {
     "data": {
      "text/plain": [
       "(282, 14)"
      ]
     },
     "execution_count": 41,
     "metadata": {
      "tags": []
     },
     "output_type": "execute_result"
    }
   ],
   "source": [
    "cdSet.shape"
   ]
  },
  {
   "cell_type": "markdown",
   "metadata": {
    "id": "YpcHF5T144i4"
   },
   "source": [
    "###**[d] Feature Selection :**"
   ]
  },
  {
   "cell_type": "markdown",
   "metadata": {
    "id": "7Kqmq_DhNj9k"
   },
   "source": [
    "**The  correlation between the columns of the Data Set**"
   ]
  },
  {
   "cell_type": "code",
   "execution_count": 42,
   "metadata": {
    "colab": {
     "base_uri": "https://localhost:8080/",
     "height": 883
    },
    "executionInfo": {
     "elapsed": 10142,
     "status": "ok",
     "timestamp": 1601279046335,
     "user": {
      "displayName": "Mostofa Kamal Sagor",
      "photoUrl": "https://lh3.googleusercontent.com/a-/AOh14GjKkF3hCXuG4vu_kbbt9ktNbBjA1ZSnubKiggAY=s64",
      "userId": "16260421205970331398"
     },
     "user_tz": -360
    },
    "id": "9U-gKkts24YU",
    "outputId": "b294f486-cb5f-47c6-c2b0-af36f15e4648"
   },
   "outputs": [
    {
     "data": {
      "text/plain": [
       "<matplotlib.axes._subplots.AxesSubplot at 0x7fd93d841240>"
      ]
     },
     "execution_count": 42,
     "metadata": {
      "tags": []
     },
     "output_type": "execute_result"
    },
    {
     "data": {
      "image/png": "[encoded data removed]",
      "text/plain": [
       "<Figure size 1080x1080 with 2 Axes>"
      ]
     },
     "metadata": {
      "tags": []
     },
     "output_type": "display_data"
    }
   ],
   "source": [
    "plt.figure(figsize=(15,15))\n",
    "sns.heatmap(cdSet.corr(),annot=True,cmap=\"Spectral\")"
   ]
  },
  {
   "cell_type": "markdown",
   "metadata": {
    "id": "IxKbuC-TNrAI"
   },
   "source": [
    "***Comment on the correlation chart:***\n",
    "\n",
    "**[1] Positive relationship with the 'target' column: cp>thalach>slope>restecg**\n",
    "\n",
    "**[2] Negative relationship with the 'target' column: exang<oldpeak<ca<thal<sex<age<trestbps<chol<fbs**"
   ]
  },
  {
   "cell_type": "markdown",
   "metadata": {
    "id": "4RxSI78obBVF"
   },
   "source": [
    "**Threshold for selecting the features:**"
   ]
  },
  {
   "cell_type": "code",
   "execution_count": 43,
   "metadata": {
    "colab": {
     "base_uri": "https://localhost:8080/",
     "height": 33
    },
    "executionInfo": {
     "elapsed": 10132,
     "status": "ok",
     "timestamp": 1601279046336,
     "user": {
      "displayName": "Mostofa Kamal Sagor",
      "photoUrl": "https://lh3.googleusercontent.com/a-/AOh14GjKkF3hCXuG4vu_kbbt9ktNbBjA1ZSnubKiggAY=s64",
      "userId": "16260421205970331398"
     },
     "user_tz": -360
    },
    "id": "NTHEs6OVbIw2",
    "outputId": "6ebc316a-ef13-47fe-ca17-d096a1565ac7"
   },
   "outputs": [
    {
     "data": {
      "text/plain": [
       "pandas.core.frame.DataFrame"
      ]
     },
     "execution_count": 43,
     "metadata": {
      "tags": []
     },
     "output_type": "execute_result"
    }
   ],
   "source": [
    "type(cdSet.corr())"
   ]
  },
  {
   "cell_type": "code",
   "execution_count": 44,
   "metadata": {
    "colab": {
     "base_uri": "https://localhost:8080/",
     "height": 267
    },
    "executionInfo": {
     "elapsed": 10117,
     "status": "ok",
     "timestamp": 1601279046337,
     "user": {
      "displayName": "Mostofa Kamal Sagor",
      "photoUrl": "https://lh3.googleusercontent.com/a-/AOh14GjKkF3hCXuG4vu_kbbt9ktNbBjA1ZSnubKiggAY=s64",
      "userId": "16260421205970331398"
     },
     "user_tz": -360
    },
    "id": "6RKjlhQkeRI9",
    "outputId": "cf6e17c0-91a5-4efd-b822-208253007388"
   },
   "outputs": [
    {
     "data": {
      "text/plain": [
       "age        -0.217268\n",
       "sex        -0.280637\n",
       "cp          0.425220\n",
       "trestbps   -0.122661\n",
       "chol       -0.089710\n",
       "fbs        -0.010978\n",
       "restecg     0.139638\n",
       "thalach     0.409506\n",
       "exang      -0.433159\n",
       "oldpeak    -0.435567\n",
       "slope       0.342602\n",
       "ca         -0.369642\n",
       "thal       -0.330608\n",
       "target      1.000000\n",
       "Name: target, dtype: float64"
      ]
     },
     "execution_count": 44,
     "metadata": {
      "tags": []
     },
     "output_type": "execute_result"
    }
   ],
   "source": [
    "cdSet.corr()['target']"
   ]
  },
  {
   "cell_type": "code",
   "execution_count": 45,
   "metadata": {
    "colab": {
     "base_uri": "https://localhost:8080/",
     "height": 33
    },
    "executionInfo": {
     "elapsed": 10107,
     "status": "ok",
     "timestamp": 1601279046337,
     "user": {
      "displayName": "Mostofa Kamal Sagor",
      "photoUrl": "https://lh3.googleusercontent.com/a-/AOh14GjKkF3hCXuG4vu_kbbt9ktNbBjA1ZSnubKiggAY=s64",
      "userId": "16260421205970331398"
     },
     "user_tz": -360
    },
    "id": "uI61ddb1cjQW",
    "outputId": "ef16daa9-21de-4332-9f86-e840928a488d"
   },
   "outputs": [
    {
     "name": "stdout",
     "output_type": "stream",
     "text": [
      "Selected poisitively correlated features for training the models are :  ['cp', 'thalach', 'slope']\n"
     ]
    }
   ],
   "source": [
    "selectedFeaturesP=[k for k,v in cdSet.corr()['target'].items() if v>0.30 and k!='target']\n",
    "print(\"Selected poisitively correlated features for training the models are : \",selectedFeaturesP)"
   ]
  },
  {
   "cell_type": "code",
   "execution_count": 46,
   "metadata": {
    "colab": {
     "base_uri": "https://localhost:8080/",
     "height": 33
    },
    "executionInfo": {
     "elapsed": 10095,
     "status": "ok",
     "timestamp": 1601279046338,
     "user": {
      "displayName": "Mostofa Kamal Sagor",
      "photoUrl": "https://lh3.googleusercontent.com/a-/AOh14GjKkF3hCXuG4vu_kbbt9ktNbBjA1ZSnubKiggAY=s64",
      "userId": "16260421205970331398"
     },
     "user_tz": -360
    },
    "id": "5sY7MYXkdvai",
    "outputId": "7ab23186-1898-4711-96aa-6cded0508631"
   },
   "outputs": [
    {
     "name": "stdout",
     "output_type": "stream",
     "text": [
      "Selected negatively correlated features for training the models are :  ['age', 'sex', 'exang', 'oldpeak', 'ca', 'thal']\n"
     ]
    }
   ],
   "source": [
    "selectedFeaturesN=[k for k,v in cdSet.corr()['target'].items() if -0.20>v>-0.50 and k!='target']\n",
    "print(\"Selected negatively correlated features for training the models are : \",selectedFeaturesN)"
   ]
  },
  {
   "cell_type": "markdown",
   "metadata": {
    "id": "zeWdkwO-OS0w"
   },
   "source": [
    "## **[e] Feature Scaling: [Most fluctuating values] Using standardization**"
   ]
  },
  {
   "cell_type": "code",
   "execution_count": 47,
   "metadata": {
    "executionInfo": {
     "elapsed": 10086,
     "status": "ok",
     "timestamp": 1601279046339,
     "user": {
      "displayName": "Mostofa Kamal Sagor",
      "photoUrl": "https://lh3.googleusercontent.com/a-/AOh14GjKkF3hCXuG4vu_kbbt9ktNbBjA1ZSnubKiggAY=s64",
      "userId": "16260421205970331398"
     },
     "user_tz": -360
    },
    "id": "dxrCl3WbOT8B"
   },
   "outputs": [],
   "source": [
    "from sklearn.preprocessing import StandardScaler\n",
    "scale = StandardScaler()\n",
    "columns_to_scale = ['age', 'trestbps', 'chol', 'thalach', 'oldpeak']\n",
    "cdSet[columns_to_scale] = scale.fit_transform(cdSet[columns_to_scale])"
   ]
  },
  {
   "cell_type": "code",
   "execution_count": 48,
   "metadata": {
    "colab": {
     "base_uri": "https://localhost:8080/",
     "height": 394
    },
    "executionInfo": {
     "elapsed": 10075,
     "status": "ok",
     "timestamp": 1601279046339,
     "user": {
      "displayName": "Mostofa Kamal Sagor",
      "photoUrl": "https://lh3.googleusercontent.com/a-/AOh14GjKkF3hCXuG4vu_kbbt9ktNbBjA1ZSnubKiggAY=s64",
      "userId": "16260421205970331398"
     },
     "user_tz": -360
    },
    "id": "PVom_4DJXez8",
    "outputId": "40eeaff5-c34b-4303-e70c-629798f0b245"
   },
   "outputs": [
    {
     "data": {
      "text/html": [
       "<div>\n",
       "<style scoped>\n",
       "    .dataframe tbody tr th:only-of-type {\n",
       "        vertical-align: middle;\n",
       "    }\n",
       "\n",
       "    .dataframe tbody tr th {\n",
       "        vertical-align: top;\n",
       "    }\n",
       "\n",
       "    .dataframe thead th {\n",
       "        text-align: right;\n",
       "    }\n",
       "</style>\n",
       "<table border=\"1\" class=\"dataframe\">\n",
       "  <thead>\n",
       "    <tr style=\"text-align: right;\">\n",
       "      <th></th>\n",
       "      <th>age</th>\n",
       "      <th>sex</th>\n",
       "      <th>cp</th>\n",
       "      <th>trestbps</th>\n",
       "      <th>chol</th>\n",
       "      <th>fbs</th>\n",
       "      <th>restecg</th>\n",
       "      <th>thalach</th>\n",
       "      <th>exang</th>\n",
       "      <th>oldpeak</th>\n",
       "      <th>slope</th>\n",
       "      <th>ca</th>\n",
       "      <th>thal</th>\n",
       "      <th>target</th>\n",
       "    </tr>\n",
       "  </thead>\n",
       "  <tbody>\n",
       "    <tr>\n",
       "      <th>0</th>\n",
       "      <td>0.948297</td>\n",
       "      <td>1</td>\n",
       "      <td>3</td>\n",
       "      <td>0.786718</td>\n",
       "      <td>-0.204298</td>\n",
       "      <td>1</td>\n",
       "      <td>0</td>\n",
       "      <td>0.005547</td>\n",
       "      <td>0</td>\n",
       "      <td>1.048524</td>\n",
       "      <td>0</td>\n",
       "      <td>0</td>\n",
       "      <td>1</td>\n",
       "      <td>1</td>\n",
       "    </tr>\n",
       "    <tr>\n",
       "      <th>1</th>\n",
       "      <td>-1.947545</td>\n",
       "      <td>1</td>\n",
       "      <td>2</td>\n",
       "      <td>-0.079450</td>\n",
       "      <td>0.121953</td>\n",
       "      <td>0</td>\n",
       "      <td>1</td>\n",
       "      <td>1.659108</td>\n",
       "      <td>0</td>\n",
       "      <td>2.072242</td>\n",
       "      <td>0</td>\n",
       "      <td>0</td>\n",
       "      <td>2</td>\n",
       "      <td>1</td>\n",
       "    </tr>\n",
       "    <tr>\n",
       "      <th>2</th>\n",
       "      <td>-1.502030</td>\n",
       "      <td>0</td>\n",
       "      <td>1</td>\n",
       "      <td>-0.079450</td>\n",
       "      <td>-0.760842</td>\n",
       "      <td>0</td>\n",
       "      <td>0</td>\n",
       "      <td>0.988745</td>\n",
       "      <td>0</td>\n",
       "      <td>0.280736</td>\n",
       "      <td>2</td>\n",
       "      <td>0</td>\n",
       "      <td>2</td>\n",
       "      <td>1</td>\n",
       "    </tr>\n",
       "    <tr>\n",
       "      <th>3</th>\n",
       "      <td>0.168648</td>\n",
       "      <td>1</td>\n",
       "      <td>1</td>\n",
       "      <td>-0.656895</td>\n",
       "      <td>-0.146724</td>\n",
       "      <td>0</td>\n",
       "      <td>1</td>\n",
       "      <td>1.256890</td>\n",
       "      <td>0</td>\n",
       "      <td>-0.231123</td>\n",
       "      <td>2</td>\n",
       "      <td>0</td>\n",
       "      <td>2</td>\n",
       "      <td>1</td>\n",
       "    </tr>\n",
       "    <tr>\n",
       "      <th>4</th>\n",
       "      <td>0.280026</td>\n",
       "      <td>0</td>\n",
       "      <td>0</td>\n",
       "      <td>-0.656895</td>\n",
       "      <td>2.117836</td>\n",
       "      <td>0</td>\n",
       "      <td>1</td>\n",
       "      <td>0.586528</td>\n",
       "      <td>1</td>\n",
       "      <td>-0.401743</td>\n",
       "      <td>2</td>\n",
       "      <td>0</td>\n",
       "      <td>2</td>\n",
       "      <td>1</td>\n",
       "    </tr>\n",
       "    <tr>\n",
       "      <th>...</th>\n",
       "      <td>...</td>\n",
       "      <td>...</td>\n",
       "      <td>...</td>\n",
       "      <td>...</td>\n",
       "      <td>...</td>\n",
       "      <td>...</td>\n",
       "      <td>...</td>\n",
       "      <td>...</td>\n",
       "      <td>...</td>\n",
       "      <td>...</td>\n",
       "      <td>...</td>\n",
       "      <td>...</td>\n",
       "      <td>...</td>\n",
       "      <td>...</td>\n",
       "    </tr>\n",
       "    <tr>\n",
       "      <th>288</th>\n",
       "      <td>0.280026</td>\n",
       "      <td>1</td>\n",
       "      <td>0</td>\n",
       "      <td>-1.234341</td>\n",
       "      <td>1.753204</td>\n",
       "      <td>0</td>\n",
       "      <td>1</td>\n",
       "      <td>-0.307289</td>\n",
       "      <td>1</td>\n",
       "      <td>1.645693</td>\n",
       "      <td>1</td>\n",
       "      <td>1</td>\n",
       "      <td>3</td>\n",
       "      <td>0</td>\n",
       "    </tr>\n",
       "    <tr>\n",
       "      <th>289</th>\n",
       "      <td>0.057269</td>\n",
       "      <td>0</td>\n",
       "      <td>0</td>\n",
       "      <td>-0.194939</td>\n",
       "      <td>-0.741651</td>\n",
       "      <td>0</td>\n",
       "      <td>2</td>\n",
       "      <td>-0.888270</td>\n",
       "      <td>1</td>\n",
       "      <td>0.792595</td>\n",
       "      <td>1</td>\n",
       "      <td>1</td>\n",
       "      <td>3</td>\n",
       "      <td>0</td>\n",
       "    </tr>\n",
       "    <tr>\n",
       "      <th>290</th>\n",
       "      <td>0.725540</td>\n",
       "      <td>1</td>\n",
       "      <td>0</td>\n",
       "      <td>0.959952</td>\n",
       "      <td>-0.780033</td>\n",
       "      <td>0</td>\n",
       "      <td>1</td>\n",
       "      <td>0.497146</td>\n",
       "      <td>0</td>\n",
       "      <td>-0.913602</td>\n",
       "      <td>2</td>\n",
       "      <td>1</td>\n",
       "      <td>3</td>\n",
       "      <td>0</td>\n",
       "    </tr>\n",
       "    <tr>\n",
       "      <th>291</th>\n",
       "      <td>0.391405</td>\n",
       "      <td>1</td>\n",
       "      <td>0</td>\n",
       "      <td>-1.003362</td>\n",
       "      <td>1.426953</td>\n",
       "      <td>0</td>\n",
       "      <td>2</td>\n",
       "      <td>-0.441362</td>\n",
       "      <td>0</td>\n",
       "      <td>2.840031</td>\n",
       "      <td>0</td>\n",
       "      <td>3</td>\n",
       "      <td>1</td>\n",
       "      <td>0</td>\n",
       "    </tr>\n",
       "    <tr>\n",
       "      <th>292</th>\n",
       "      <td>0.391405</td>\n",
       "      <td>0</td>\n",
       "      <td>0</td>\n",
       "      <td>2.230331</td>\n",
       "      <td>-0.357827</td>\n",
       "      <td>1</td>\n",
       "      <td>0</td>\n",
       "      <td>-0.173217</td>\n",
       "      <td>1</td>\n",
       "      <td>1.475073</td>\n",
       "      <td>1</td>\n",
       "      <td>2</td>\n",
       "      <td>1</td>\n",
       "      <td>0</td>\n",
       "    </tr>\n",
       "  </tbody>\n",
       "</table>\n",
       "<p>272 rows × 14 columns</p>\n",
       "</div>"
      ],
      "text/plain": [
       "          age  sex  cp  trestbps      chol  ...   oldpeak  slope  ca  thal  target\n",
       "0    0.948297    1   3  0.786718 -0.204298  ...  1.048524      0   0     1       1\n",
       "1   -1.947545    1   2 -0.079450  0.121953  ...  2.072242      0   0     2       1\n",
       "2   -1.502030    0   1 -0.079450 -0.760842  ...  0.280736      2   0     2       1\n",
       "3    0.168648    1   1 -0.656895 -0.146724  ... -0.231123      2   0     2       1\n",
       "4    0.280026    0   0 -0.656895  2.117836  ... -0.401743      2   0     2       1\n",
       "..        ...  ...  ..       ...       ...  ...       ...    ...  ..   ...     ...\n",
       "288  0.280026    1   0 -1.234341  1.753204  ...  1.645693      1   1     3       0\n",
       "289  0.057269    0   0 -0.194939 -0.741651  ...  0.792595      1   1     3       0\n",
       "290  0.725540    1   0  0.959952 -0.780033  ... -0.913602      2   1     3       0\n",
       "291  0.391405    1   0 -1.003362  1.426953  ...  2.840031      0   3     1       0\n",
       "292  0.391405    0   0  2.230331 -0.357827  ...  1.475073      1   2     1       0\n",
       "\n",
       "[272 rows x 14 columns]"
      ]
     },
     "execution_count": 48,
     "metadata": {
      "tags": []
     },
     "output_type": "execute_result"
    }
   ],
   "source": [
    "cdSet.head(-10)"
   ]
  },
  {
   "cell_type": "markdown",
   "metadata": {
    "id": "pfPDVlVhRkPl"
   },
   "source": [
    "##**[f]Normalization : To rescale the Data Set**\n",
    "\n",
    "$\\frac{x-min(x)}{max(x)-min(x)}$"
   ]
  },
  {
   "cell_type": "markdown",
   "metadata": {
    "id": "zbtXU-BAercQ"
   },
   "source": [
    "***1. Selected poisitively correlated features for training the models are :  ['cp', 'thalach', 'slope']***\n",
    "\n",
    "***2. Selected negatively correlated features for training the models are :  ['age', 'sex', 'exang', 'oldpeak', 'ca', 'thal']***"
   ]
  },
  {
   "cell_type": "code",
   "execution_count": 49,
   "metadata": {
    "executionInfo": {
     "elapsed": 10065,
     "status": "ok",
     "timestamp": 1601279046340,
     "user": {
      "displayName": "Mostofa Kamal Sagor",
      "photoUrl": "https://lh3.googleusercontent.com/a-/AOh14GjKkF3hCXuG4vu_kbbt9ktNbBjA1ZSnubKiggAY=s64",
      "userId": "16260421205970331398"
     },
     "user_tz": -360
    },
    "id": "QznSwz5PQDq-"
   },
   "outputs": [],
   "source": [
    "# y = cdSet.target.values\n",
    "y=cdSet['target']\n",
    "x_data = cdSet.drop(['trestbps','chol','fbs','restecg','target'], axis = 1)"
   ]
  },
  {
   "cell_type": "markdown",
   "metadata": {
    "id": "GuqXosDksM7Q"
   },
   "source": [
    "**Phase-01 | Before normalization:**"
   ]
  },
  {
   "cell_type": "code",
   "execution_count": 50,
   "metadata": {
    "colab": {
     "base_uri": "https://localhost:8080/",
     "height": 191
    },
    "executionInfo": {
     "elapsed": 10055,
     "status": "ok",
     "timestamp": 1601279046341,
     "user": {
      "displayName": "Mostofa Kamal Sagor",
      "photoUrl": "https://lh3.googleusercontent.com/a-/AOh14GjKkF3hCXuG4vu_kbbt9ktNbBjA1ZSnubKiggAY=s64",
      "userId": "16260421205970331398"
     },
     "user_tz": -360
    },
    "id": "0uVDflosU1Zf",
    "outputId": "2ce0d7d6-5036-4219-ac1a-2d6006a3ce61"
   },
   "outputs": [
    {
     "data": {
      "text/html": [
       "<div>\n",
       "<style scoped>\n",
       "    .dataframe tbody tr th:only-of-type {\n",
       "        vertical-align: middle;\n",
       "    }\n",
       "\n",
       "    .dataframe tbody tr th {\n",
       "        vertical-align: top;\n",
       "    }\n",
       "\n",
       "    .dataframe thead th {\n",
       "        text-align: right;\n",
       "    }\n",
       "</style>\n",
       "<table border=\"1\" class=\"dataframe\">\n",
       "  <thead>\n",
       "    <tr style=\"text-align: right;\">\n",
       "      <th></th>\n",
       "      <th>age</th>\n",
       "      <th>sex</th>\n",
       "      <th>cp</th>\n",
       "      <th>thalach</th>\n",
       "      <th>exang</th>\n",
       "      <th>oldpeak</th>\n",
       "      <th>slope</th>\n",
       "      <th>ca</th>\n",
       "      <th>thal</th>\n",
       "    </tr>\n",
       "  </thead>\n",
       "  <tbody>\n",
       "    <tr>\n",
       "      <th>0</th>\n",
       "      <td>0.948297</td>\n",
       "      <td>1</td>\n",
       "      <td>3</td>\n",
       "      <td>0.005547</td>\n",
       "      <td>0</td>\n",
       "      <td>1.048524</td>\n",
       "      <td>0</td>\n",
       "      <td>0</td>\n",
       "      <td>1</td>\n",
       "    </tr>\n",
       "    <tr>\n",
       "      <th>1</th>\n",
       "      <td>-1.947545</td>\n",
       "      <td>1</td>\n",
       "      <td>2</td>\n",
       "      <td>1.659108</td>\n",
       "      <td>0</td>\n",
       "      <td>2.072242</td>\n",
       "      <td>0</td>\n",
       "      <td>0</td>\n",
       "      <td>2</td>\n",
       "    </tr>\n",
       "    <tr>\n",
       "      <th>2</th>\n",
       "      <td>-1.502030</td>\n",
       "      <td>0</td>\n",
       "      <td>1</td>\n",
       "      <td>0.988745</td>\n",
       "      <td>0</td>\n",
       "      <td>0.280736</td>\n",
       "      <td>2</td>\n",
       "      <td>0</td>\n",
       "      <td>2</td>\n",
       "    </tr>\n",
       "    <tr>\n",
       "      <th>3</th>\n",
       "      <td>0.168648</td>\n",
       "      <td>1</td>\n",
       "      <td>1</td>\n",
       "      <td>1.256890</td>\n",
       "      <td>0</td>\n",
       "      <td>-0.231123</td>\n",
       "      <td>2</td>\n",
       "      <td>0</td>\n",
       "      <td>2</td>\n",
       "    </tr>\n",
       "    <tr>\n",
       "      <th>4</th>\n",
       "      <td>0.280026</td>\n",
       "      <td>0</td>\n",
       "      <td>0</td>\n",
       "      <td>0.586528</td>\n",
       "      <td>1</td>\n",
       "      <td>-0.401743</td>\n",
       "      <td>2</td>\n",
       "      <td>0</td>\n",
       "      <td>2</td>\n",
       "    </tr>\n",
       "  </tbody>\n",
       "</table>\n",
       "</div>"
      ],
      "text/plain": [
       "        age  sex  cp   thalach  exang   oldpeak  slope  ca  thal\n",
       "0  0.948297    1   3  0.005547      0  1.048524      0   0     1\n",
       "1 -1.947545    1   2  1.659108      0  2.072242      0   0     2\n",
       "2 -1.502030    0   1  0.988745      0  0.280736      2   0     2\n",
       "3  0.168648    1   1  1.256890      0 -0.231123      2   0     2\n",
       "4  0.280026    0   0  0.586528      1 -0.401743      2   0     2"
      ]
     },
     "execution_count": 50,
     "metadata": {
      "tags": []
     },
     "output_type": "execute_result"
    }
   ],
   "source": [
    "x_data.head()"
   ]
  },
  {
   "cell_type": "markdown",
   "metadata": {
    "id": "KSwqJXCcsIw2"
   },
   "source": [
    "**Phase-02 | After normalization:**"
   ]
  },
  {
   "cell_type": "code",
   "execution_count": 51,
   "metadata": {
    "executionInfo": {
     "elapsed": 10045,
     "status": "ok",
     "timestamp": 1601279046342,
     "user": {
      "displayName": "Mostofa Kamal Sagor",
      "photoUrl": "https://lh3.googleusercontent.com/a-/AOh14GjKkF3hCXuG4vu_kbbt9ktNbBjA1ZSnubKiggAY=s64",
      "userId": "16260421205970331398"
     },
     "user_tz": -360
    },
    "id": "g-9Flx9vfj4Q"
   },
   "outputs": [],
   "source": [
    "x = (x_data - np.min(x_data)) / (np.max(x_data) - np.min(x_data)).values"
   ]
  },
  {
   "cell_type": "code",
   "execution_count": 52,
   "metadata": {
    "colab": {
     "base_uri": "https://localhost:8080/",
     "height": 191
    },
    "executionInfo": {
     "elapsed": 10035,
     "status": "ok",
     "timestamp": 1601279046342,
     "user": {
      "displayName": "Mostofa Kamal Sagor",
      "photoUrl": "https://lh3.googleusercontent.com/a-/AOh14GjKkF3hCXuG4vu_kbbt9ktNbBjA1ZSnubKiggAY=s64",
      "userId": "16260421205970331398"
     },
     "user_tz": -360
    },
    "id": "atYeY1iMaRo4",
    "outputId": "12c202e3-4216-48f6-d56c-d1c64f24e7ab"
   },
   "outputs": [
    {
     "data": {
      "text/html": [
       "<div>\n",
       "<style scoped>\n",
       "    .dataframe tbody tr th:only-of-type {\n",
       "        vertical-align: middle;\n",
       "    }\n",
       "\n",
       "    .dataframe tbody tr th {\n",
       "        vertical-align: top;\n",
       "    }\n",
       "\n",
       "    .dataframe thead th {\n",
       "        text-align: right;\n",
       "    }\n",
       "</style>\n",
       "<table border=\"1\" class=\"dataframe\">\n",
       "  <thead>\n",
       "    <tr style=\"text-align: right;\">\n",
       "      <th></th>\n",
       "      <th>age</th>\n",
       "      <th>sex</th>\n",
       "      <th>cp</th>\n",
       "      <th>thalach</th>\n",
       "      <th>exang</th>\n",
       "      <th>oldpeak</th>\n",
       "      <th>slope</th>\n",
       "      <th>ca</th>\n",
       "      <th>thal</th>\n",
       "    </tr>\n",
       "  </thead>\n",
       "  <tbody>\n",
       "    <tr>\n",
       "      <th>0</th>\n",
       "      <td>0.708333</td>\n",
       "      <td>1.0</td>\n",
       "      <td>1.000000</td>\n",
       "      <td>0.603053</td>\n",
       "      <td>0.0</td>\n",
       "      <td>0.370968</td>\n",
       "      <td>0.0</td>\n",
       "      <td>0.0</td>\n",
       "      <td>0.333333</td>\n",
       "    </tr>\n",
       "    <tr>\n",
       "      <th>1</th>\n",
       "      <td>0.166667</td>\n",
       "      <td>1.0</td>\n",
       "      <td>0.666667</td>\n",
       "      <td>0.885496</td>\n",
       "      <td>0.0</td>\n",
       "      <td>0.564516</td>\n",
       "      <td>0.0</td>\n",
       "      <td>0.0</td>\n",
       "      <td>0.666667</td>\n",
       "    </tr>\n",
       "    <tr>\n",
       "      <th>2</th>\n",
       "      <td>0.250000</td>\n",
       "      <td>0.0</td>\n",
       "      <td>0.333333</td>\n",
       "      <td>0.770992</td>\n",
       "      <td>0.0</td>\n",
       "      <td>0.225806</td>\n",
       "      <td>1.0</td>\n",
       "      <td>0.0</td>\n",
       "      <td>0.666667</td>\n",
       "    </tr>\n",
       "    <tr>\n",
       "      <th>3</th>\n",
       "      <td>0.562500</td>\n",
       "      <td>1.0</td>\n",
       "      <td>0.333333</td>\n",
       "      <td>0.816794</td>\n",
       "      <td>0.0</td>\n",
       "      <td>0.129032</td>\n",
       "      <td>1.0</td>\n",
       "      <td>0.0</td>\n",
       "      <td>0.666667</td>\n",
       "    </tr>\n",
       "    <tr>\n",
       "      <th>4</th>\n",
       "      <td>0.583333</td>\n",
       "      <td>0.0</td>\n",
       "      <td>0.000000</td>\n",
       "      <td>0.702290</td>\n",
       "      <td>1.0</td>\n",
       "      <td>0.096774</td>\n",
       "      <td>1.0</td>\n",
       "      <td>0.0</td>\n",
       "      <td>0.666667</td>\n",
       "    </tr>\n",
       "  </tbody>\n",
       "</table>\n",
       "</div>"
      ],
      "text/plain": [
       "        age  sex        cp   thalach  exang   oldpeak  slope   ca      thal\n",
       "0  0.708333  1.0  1.000000  0.603053    0.0  0.370968    0.0  0.0  0.333333\n",
       "1  0.166667  1.0  0.666667  0.885496    0.0  0.564516    0.0  0.0  0.666667\n",
       "2  0.250000  0.0  0.333333  0.770992    0.0  0.225806    1.0  0.0  0.666667\n",
       "3  0.562500  1.0  0.333333  0.816794    0.0  0.129032    1.0  0.0  0.666667\n",
       "4  0.583333  0.0  0.000000  0.702290    1.0  0.096774    1.0  0.0  0.666667"
      ]
     },
     "execution_count": 52,
     "metadata": {
      "tags": []
     },
     "output_type": "execute_result"
    }
   ],
   "source": [
    "x.head()"
   ]
  },
  {
   "cell_type": "markdown",
   "metadata": {
    "id": "1sDKTwNsUN3n"
   },
   "source": [
    "***Let's consider for the 'cp' column:***"
   ]
  },
  {
   "cell_type": "code",
   "execution_count": 53,
   "metadata": {
    "colab": {
     "base_uri": "https://localhost:8080/",
     "height": 33
    },
    "executionInfo": {
     "elapsed": 10025,
     "status": "ok",
     "timestamp": 1601279046343,
     "user": {
      "displayName": "Mostofa Kamal Sagor",
      "photoUrl": "https://lh3.googleusercontent.com/a-/AOh14GjKkF3hCXuG4vu_kbbt9ktNbBjA1ZSnubKiggAY=s64",
      "userId": "16260421205970331398"
     },
     "user_tz": -360
    },
    "id": "RXjPz_NRTA6U",
    "outputId": "f159625b-20d5-4d4b-f5eb-0b614e78fcc4"
   },
   "outputs": [
    {
     "data": {
      "text/plain": [
       "0.0"
      ]
     },
     "execution_count": 53,
     "metadata": {
      "tags": []
     },
     "output_type": "execute_result"
    }
   ],
   "source": [
    "{k:v for k,v in np.min(x_data).items()}['cp']"
   ]
  },
  {
   "cell_type": "code",
   "execution_count": 54,
   "metadata": {
    "colab": {
     "base_uri": "https://localhost:8080/",
     "height": 33
    },
    "executionInfo": {
     "elapsed": 10014,
     "status": "ok",
     "timestamp": 1601279046343,
     "user": {
      "displayName": "Mostofa Kamal Sagor",
      "photoUrl": "https://lh3.googleusercontent.com/a-/AOh14GjKkF3hCXuG4vu_kbbt9ktNbBjA1ZSnubKiggAY=s64",
      "userId": "16260421205970331398"
     },
     "user_tz": -360
    },
    "id": "SUaEo1fETFT4",
    "outputId": "9c193d28-7f91-4e3b-a755-f83080bc19e1"
   },
   "outputs": [
    {
     "data": {
      "text/plain": [
       "3.0"
      ]
     },
     "execution_count": 54,
     "metadata": {
      "tags": []
     },
     "output_type": "execute_result"
    }
   ],
   "source": [
    "{k:v for k,v in np.max(x_data).items()}['cp']"
   ]
  },
  {
   "cell_type": "code",
   "execution_count": 55,
   "metadata": {
    "executionInfo": {
     "elapsed": 10003,
     "status": "ok",
     "timestamp": 1601279046344,
     "user": {
      "displayName": "Mostofa Kamal Sagor",
      "photoUrl": "https://lh3.googleusercontent.com/a-/AOh14GjKkF3hCXuG4vu_kbbt9ktNbBjA1ZSnubKiggAY=s64",
      "userId": "16260421205970331398"
     },
     "user_tz": -360
    },
    "id": "pOtM3VHATpDo"
   },
   "outputs": [],
   "source": [
    "temp=np.max(x_data) - np.min(x_data)['cp']"
   ]
  },
  {
   "cell_type": "code",
   "execution_count": 56,
   "metadata": {
    "colab": {
     "base_uri": "https://localhost:8080/",
     "height": 33
    },
    "executionInfo": {
     "elapsed": 9993,
     "status": "ok",
     "timestamp": 1601279046344,
     "user": {
      "displayName": "Mostofa Kamal Sagor",
      "photoUrl": "https://lh3.googleusercontent.com/a-/AOh14GjKkF3hCXuG4vu_kbbt9ktNbBjA1ZSnubKiggAY=s64",
      "userId": "16260421205970331398"
     },
     "user_tz": -360
    },
    "id": "KkSuOpH4Tc5Z",
    "outputId": "8e51a0d0-0d37-4149-b37a-d0a4ce0c70f9"
   },
   "outputs": [
    {
     "data": {
      "text/plain": [
       "3.0"
      ]
     },
     "execution_count": 56,
     "metadata": {
      "tags": []
     },
     "output_type": "execute_result"
    }
   ],
   "source": [
    "{k:v for k,v in temp.items()}['cp']"
   ]
  },
  {
   "cell_type": "markdown",
   "metadata": {
    "id": "m0pdCMgwLXJg"
   },
   "source": [
    "# ***Step:04***"
   ]
  },
  {
   "cell_type": "markdown",
   "metadata": {
    "id": "f8Cej_FV6pA4"
   },
   "source": [
    "# **Data Set Split : Train and Test Set**"
   ]
  },
  {
   "cell_type": "code",
   "execution_count": 57,
   "metadata": {
    "executionInfo": {
     "elapsed": 9983,
     "status": "ok",
     "timestamp": 1601279046345,
     "user": {
      "displayName": "Mostofa Kamal Sagor",
      "photoUrl": "https://lh3.googleusercontent.com/a-/AOh14GjKkF3hCXuG4vu_kbbt9ktNbBjA1ZSnubKiggAY=s64",
      "userId": "16260421205970331398"
     },
     "user_tz": -360
    },
    "id": "0Ca1QFoyP3pB"
   },
   "outputs": [],
   "source": [
    "from sklearn.model_selection import train_test_split"
   ]
  },
  {
   "cell_type": "markdown",
   "metadata": {
    "id": "Pb6yjaqFdf2x"
   },
   "source": [
    "***1. Selected poisitively correlated features for training the models are :  ['cp', 'thalach', 'slope']***\n",
    "\n",
    "***2. Selected negatively correlated features for training the models are :  ['age', 'sex', 'exang', 'oldpeak', 'ca', 'thal']***"
   ]
  },
  {
   "cell_type": "code",
   "execution_count": 58,
   "metadata": {
    "executionInfo": {
     "elapsed": 9973,
     "status": "ok",
     "timestamp": 1601279046345,
     "user": {
      "displayName": "Mostofa Kamal Sagor",
      "photoUrl": "https://lh3.googleusercontent.com/a-/AOh14GjKkF3hCXuG4vu_kbbt9ktNbBjA1ZSnubKiggAY=s64",
      "userId": "16260421205970331398"
     },
     "user_tz": -360
    },
    "id": "CIcXpzKIfo0h"
   },
   "outputs": [],
   "source": [
    "x_train, x_test, y_train, y_test = train_test_split(x,y,test_size = 0.2,random_state=0)"
   ]
  },
  {
   "cell_type": "markdown",
   "metadata": {
    "id": "yfoLFEHiWLnM"
   },
   "source": [
    "**Explanation step by step:**"
   ]
  },
  {
   "cell_type": "code",
   "execution_count": 59,
   "metadata": {
    "colab": {
     "base_uri": "https://localhost:8080/",
     "height": 104
    },
    "executionInfo": {
     "elapsed": 9964,
     "status": "ok",
     "timestamp": 1601279046346,
     "user": {
      "displayName": "Mostofa Kamal Sagor",
      "photoUrl": "https://lh3.googleusercontent.com/a-/AOh14GjKkF3hCXuG4vu_kbbt9ktNbBjA1ZSnubKiggAY=s64",
      "userId": "16260421205970331398"
     },
     "user_tz": -360
    },
    "id": "V1f1oaJQV-At",
    "outputId": "266001b4-322d-4491-e9f5-23d1a9fbf296"
   },
   "outputs": [
    {
     "data": {
      "text/html": [
       "<div>\n",
       "<style scoped>\n",
       "    .dataframe tbody tr th:only-of-type {\n",
       "        vertical-align: middle;\n",
       "    }\n",
       "\n",
       "    .dataframe tbody tr th {\n",
       "        vertical-align: top;\n",
       "    }\n",
       "\n",
       "    .dataframe thead th {\n",
       "        text-align: right;\n",
       "    }\n",
       "</style>\n",
       "<table border=\"1\" class=\"dataframe\">\n",
       "  <thead>\n",
       "    <tr style=\"text-align: right;\">\n",
       "      <th></th>\n",
       "      <th>age</th>\n",
       "      <th>sex</th>\n",
       "      <th>cp</th>\n",
       "      <th>thalach</th>\n",
       "      <th>exang</th>\n",
       "      <th>oldpeak</th>\n",
       "      <th>slope</th>\n",
       "      <th>ca</th>\n",
       "      <th>thal</th>\n",
       "    </tr>\n",
       "  </thead>\n",
       "  <tbody>\n",
       "    <tr>\n",
       "      <th>192</th>\n",
       "      <td>0.520833</td>\n",
       "      <td>1.0</td>\n",
       "      <td>0.000000</td>\n",
       "      <td>0.320611</td>\n",
       "      <td>0.0</td>\n",
       "      <td>0.225806</td>\n",
       "      <td>0.5</td>\n",
       "      <td>0.25</td>\n",
       "      <td>1.0</td>\n",
       "    </tr>\n",
       "    <tr>\n",
       "      <th>216</th>\n",
       "      <td>0.687500</td>\n",
       "      <td>0.0</td>\n",
       "      <td>0.666667</td>\n",
       "      <td>0.198473</td>\n",
       "      <td>0.0</td>\n",
       "      <td>0.193548</td>\n",
       "      <td>0.5</td>\n",
       "      <td>0.25</td>\n",
       "      <td>1.0</td>\n",
       "    </tr>\n",
       "  </tbody>\n",
       "</table>\n",
       "</div>"
      ],
      "text/plain": [
       "          age  sex        cp   thalach  exang   oldpeak  slope    ca  thal\n",
       "192  0.520833  1.0  0.000000  0.320611    0.0  0.225806    0.5  0.25   1.0\n",
       "216  0.687500  0.0  0.666667  0.198473    0.0  0.193548    0.5  0.25   1.0"
      ]
     },
     "execution_count": 59,
     "metadata": {
      "tags": []
     },
     "output_type": "execute_result"
    }
   ],
   "source": [
    "train_test_split(x,y,test_size = 0.2,random_state=0)[0].head(2)"
   ]
  },
  {
   "cell_type": "code",
   "execution_count": 60,
   "metadata": {
    "colab": {
     "base_uri": "https://localhost:8080/",
     "height": 104
    },
    "executionInfo": {
     "elapsed": 9953,
     "status": "ok",
     "timestamp": 1601279046346,
     "user": {
      "displayName": "Mostofa Kamal Sagor",
      "photoUrl": "https://lh3.googleusercontent.com/a-/AOh14GjKkF3hCXuG4vu_kbbt9ktNbBjA1ZSnubKiggAY=s64",
      "userId": "16260421205970331398"
     },
     "user_tz": -360
    },
    "id": "yZMFYHBJV8k7",
    "outputId": "864a87d5-9f02-44be-d434-2e89e8a83d8d"
   },
   "outputs": [
    {
     "data": {
      "text/html": [
       "<div>\n",
       "<style scoped>\n",
       "    .dataframe tbody tr th:only-of-type {\n",
       "        vertical-align: middle;\n",
       "    }\n",
       "\n",
       "    .dataframe tbody tr th {\n",
       "        vertical-align: top;\n",
       "    }\n",
       "\n",
       "    .dataframe thead th {\n",
       "        text-align: right;\n",
       "    }\n",
       "</style>\n",
       "<table border=\"1\" class=\"dataframe\">\n",
       "  <thead>\n",
       "    <tr style=\"text-align: right;\">\n",
       "      <th></th>\n",
       "      <th>age</th>\n",
       "      <th>sex</th>\n",
       "      <th>cp</th>\n",
       "      <th>thalach</th>\n",
       "      <th>exang</th>\n",
       "      <th>oldpeak</th>\n",
       "      <th>slope</th>\n",
       "      <th>ca</th>\n",
       "      <th>thal</th>\n",
       "    </tr>\n",
       "  </thead>\n",
       "  <tbody>\n",
       "    <tr>\n",
       "      <th>128</th>\n",
       "      <td>0.479167</td>\n",
       "      <td>0.0</td>\n",
       "      <td>0.666667</td>\n",
       "      <td>0.748092</td>\n",
       "      <td>0.0</td>\n",
       "      <td>0.016129</td>\n",
       "      <td>0.5</td>\n",
       "      <td>0.0</td>\n",
       "      <td>0.666667</td>\n",
       "    </tr>\n",
       "    <tr>\n",
       "      <th>72</th>\n",
       "      <td>0.000000</td>\n",
       "      <td>1.0</td>\n",
       "      <td>0.333333</td>\n",
       "      <td>1.000000</td>\n",
       "      <td>0.0</td>\n",
       "      <td>0.000000</td>\n",
       "      <td>1.0</td>\n",
       "      <td>0.0</td>\n",
       "      <td>0.666667</td>\n",
       "    </tr>\n",
       "  </tbody>\n",
       "</table>\n",
       "</div>"
      ],
      "text/plain": [
       "          age  sex        cp   thalach  exang   oldpeak  slope   ca      thal\n",
       "128  0.479167  0.0  0.666667  0.748092    0.0  0.016129    0.5  0.0  0.666667\n",
       "72   0.000000  1.0  0.333333  1.000000    0.0  0.000000    1.0  0.0  0.666667"
      ]
     },
     "execution_count": 60,
     "metadata": {
      "tags": []
     },
     "output_type": "execute_result"
    }
   ],
   "source": [
    "train_test_split(x,y,test_size = 0.2,random_state=0)[1].head(2)"
   ]
  },
  {
   "cell_type": "code",
   "execution_count": 61,
   "metadata": {
    "colab": {
     "base_uri": "https://localhost:8080/",
     "height": 67
    },
    "executionInfo": {
     "elapsed": 9941,
     "status": "ok",
     "timestamp": 1601279046347,
     "user": {
      "displayName": "Mostofa Kamal Sagor",
      "photoUrl": "https://lh3.googleusercontent.com/a-/AOh14GjKkF3hCXuG4vu_kbbt9ktNbBjA1ZSnubKiggAY=s64",
      "userId": "16260421205970331398"
     },
     "user_tz": -360
    },
    "id": "9ilX-XcBV645",
    "outputId": "4870c2b5-5158-4a7d-99cf-e6c0852e2a9a"
   },
   "outputs": [
    {
     "data": {
      "text/plain": [
       "192    0\n",
       "216    0\n",
       "Name: target, dtype: int64"
      ]
     },
     "execution_count": 61,
     "metadata": {
      "tags": []
     },
     "output_type": "execute_result"
    }
   ],
   "source": [
    "train_test_split(x,y,test_size = 0.2,random_state=0)[2].head(2)"
   ]
  },
  {
   "cell_type": "code",
   "execution_count": 62,
   "metadata": {
    "colab": {
     "base_uri": "https://localhost:8080/",
     "height": 67
    },
    "executionInfo": {
     "elapsed": 9929,
     "status": "ok",
     "timestamp": 1601279046347,
     "user": {
      "displayName": "Mostofa Kamal Sagor",
      "photoUrl": "https://lh3.googleusercontent.com/a-/AOh14GjKkF3hCXuG4vu_kbbt9ktNbBjA1ZSnubKiggAY=s64",
      "userId": "16260421205970331398"
     },
     "user_tz": -360
    },
    "id": "mO6K5g8dVi05",
    "outputId": "a3a7e98b-1879-46e2-ad0e-e8eb73168357"
   },
   "outputs": [
    {
     "data": {
      "text/plain": [
       "128    1\n",
       "72     1\n",
       "Name: target, dtype: int64"
      ]
     },
     "execution_count": 62,
     "metadata": {
      "tags": []
     },
     "output_type": "execute_result"
    }
   ],
   "source": [
    "train_test_split(x,y,test_size = 0.2,random_state=0)[3].head(2)"
   ]
  },
  {
   "cell_type": "markdown",
   "metadata": {
    "id": "XIeb2wuZ6wEO"
   },
   "source": [
    "## **[a] Train Set :**"
   ]
  },
  {
   "cell_type": "code",
   "execution_count": 63,
   "metadata": {
    "colab": {
     "base_uri": "https://localhost:8080/",
     "height": 50
    },
    "executionInfo": {
     "elapsed": 9918,
     "status": "ok",
     "timestamp": 1601279046348,
     "user": {
      "displayName": "Mostofa Kamal Sagor",
      "photoUrl": "https://lh3.googleusercontent.com/a-/AOh14GjKkF3hCXuG4vu_kbbt9ktNbBjA1ZSnubKiggAY=s64",
      "userId": "16260421205970331398"
     },
     "user_tz": -360
    },
    "id": "pKMgC72j6vF7",
    "outputId": "459735c1-8cb0-4db0-a393-87b826351771"
   },
   "outputs": [
    {
     "name": "stdout",
     "output_type": "stream",
     "text": [
      "x_train shape: (225, 9)\n",
      "y_train shape: (225,)\n"
     ]
    }
   ],
   "source": [
    "print(\"x_train shape:\",x_train.shape)\n",
    "print(\"y_train shape:\",y_train.shape)"
   ]
  },
  {
   "cell_type": "code",
   "execution_count": 64,
   "metadata": {
    "colab": {
     "base_uri": "https://localhost:8080/",
     "height": 33
    },
    "executionInfo": {
     "elapsed": 9906,
     "status": "ok",
     "timestamp": 1601279046348,
     "user": {
      "displayName": "Mostofa Kamal Sagor",
      "photoUrl": "https://lh3.googleusercontent.com/a-/AOh14GjKkF3hCXuG4vu_kbbt9ktNbBjA1ZSnubKiggAY=s64",
      "userId": "16260421205970331398"
     },
     "user_tz": -360
    },
    "id": "tJ-hmLxLWylb",
    "outputId": "d72980ee-ac56-4785-86f4-9bd031090622"
   },
   "outputs": [
    {
     "data": {
      "text/plain": [
       "array([0, 1])"
      ]
     },
     "execution_count": 64,
     "metadata": {
      "tags": []
     },
     "output_type": "execute_result"
    }
   ],
   "source": [
    "y_train.unique()"
   ]
  },
  {
   "cell_type": "code",
   "execution_count": 65,
   "metadata": {
    "colab": {
     "base_uri": "https://localhost:8080/",
     "height": 296
    },
    "executionInfo": {
     "elapsed": 11122,
     "status": "ok",
     "timestamp": 1601279047577,
     "user": {
      "displayName": "Mostofa Kamal Sagor",
      "photoUrl": "https://lh3.googleusercontent.com/a-/AOh14GjKkF3hCXuG4vu_kbbt9ktNbBjA1ZSnubKiggAY=s64",
      "userId": "16260421205970331398"
     },
     "user_tz": -360
    },
    "id": "PHxfymLDT-fT",
    "outputId": "1698def5-bf40-462b-8a24-e2803c975bce"
   },
   "outputs": [
    {
     "data": {
      "text/plain": [
       "Text(0, 0.5, 'Chest Pain')"
      ]
     },
     "execution_count": 65,
     "metadata": {
      "tags": []
     },
     "output_type": "execute_result"
    },
    {
     "data": {
      "image/png": "[encoded data removed]",
      "text/plain": [
       "<Figure size 432x288 with 1 Axes>"
      ]
     },
     "metadata": {
      "tags": []
     },
     "output_type": "display_data"
    }
   ],
   "source": [
    "histogram,axis=plt.subplots()\n",
    "axis.hist(y_train)\n",
    "axis.set_label(\"Heart disease prediction rate\")\n",
    "axis.set_xlabel(\"Heart Patient Status\")\n",
    "axis.set_ylabel(\"Chest Pain\")"
   ]
  },
  {
   "cell_type": "markdown",
   "metadata": {
    "id": "JaaxpOtu60-m"
   },
   "source": [
    "##**[b] Test Set**"
   ]
  },
  {
   "cell_type": "code",
   "execution_count": 66,
   "metadata": {
    "colab": {
     "base_uri": "https://localhost:8080/",
     "height": 50
    },
    "executionInfo": {
     "elapsed": 11111,
     "status": "ok",
     "timestamp": 1601279047578,
     "user": {
      "displayName": "Mostofa Kamal Sagor",
      "photoUrl": "https://lh3.googleusercontent.com/a-/AOh14GjKkF3hCXuG4vu_kbbt9ktNbBjA1ZSnubKiggAY=s64",
      "userId": "16260421205970331398"
     },
     "user_tz": -360
    },
    "id": "YVT0uUXK61X1",
    "outputId": "880d66e7-320d-45bf-ae70-06e14642f76c"
   },
   "outputs": [
    {
     "name": "stdout",
     "output_type": "stream",
     "text": [
      "x_test shape: (57, 9)\n",
      "y_test shape: (57,)\n"
     ]
    }
   ],
   "source": [
    "print(\"x_test shape:\",x_test.shape)\n",
    "print(\"y_test shape:\",y_test.shape)"
   ]
  },
  {
   "cell_type": "code",
   "execution_count": 67,
   "metadata": {
    "colab": {
     "base_uri": "https://localhost:8080/",
     "height": 33
    },
    "executionInfo": {
     "elapsed": 11100,
     "status": "ok",
     "timestamp": 1601279047579,
     "user": {
      "displayName": "Mostofa Kamal Sagor",
      "photoUrl": "https://lh3.googleusercontent.com/a-/AOh14GjKkF3hCXuG4vu_kbbt9ktNbBjA1ZSnubKiggAY=s64",
      "userId": "16260421205970331398"
     },
     "user_tz": -360
    },
    "id": "nYPJEq1mWlHx",
    "outputId": "cb576e9c-a70d-41e1-f3cf-dc143cf957ae"
   },
   "outputs": [
    {
     "data": {
      "text/plain": [
       "array([1, 0])"
      ]
     },
     "execution_count": 67,
     "metadata": {
      "tags": []
     },
     "output_type": "execute_result"
    }
   ],
   "source": [
    "y_test.unique()"
   ]
  },
  {
   "cell_type": "markdown",
   "metadata": {
    "id": "7k3UXht3SXEB"
   },
   "source": [
    "# **Used ML Algorithms**\n",
    "\n",
    "1. KNN\n",
    "2. SVM\n",
    "3. Gaussian Naive Bayes\n",
    "4. Decision Tree"
   ]
  },
  {
   "cell_type": "markdown",
   "metadata": {
    "id": "gEFx9Ay7Lgcx"
   },
   "source": [
    "# ***Step:05***"
   ]
  },
  {
   "cell_type": "markdown",
   "metadata": {
    "id": "NPj6VF9qmw7d"
   },
   "source": [
    "**importing the algorithms and creating objects**"
   ]
  },
  {
   "cell_type": "markdown",
   "metadata": {
    "id": "DKzXZ4p7Rypl"
   },
   "source": [
    "**K-nearest**"
   ]
  },
  {
   "cell_type": "code",
   "execution_count": 68,
   "metadata": {
    "executionInfo": {
     "elapsed": 11087,
     "status": "ok",
     "timestamp": 1601279047580,
     "user": {
      "displayName": "Mostofa Kamal Sagor",
      "photoUrl": "https://lh3.googleusercontent.com/a-/AOh14GjKkF3hCXuG4vu_kbbt9ktNbBjA1ZSnubKiggAY=s64",
      "userId": "16260421205970331398"
     },
     "user_tz": -360
    },
    "id": "sUR7HIXuSJwH"
   },
   "outputs": [],
   "source": [
    "from sklearn.neighbors import KNeighborsClassifier\n",
    "knn = KNeighborsClassifier(n_neighbors=1)"
   ]
  },
  {
   "cell_type": "markdown",
   "metadata": {
    "id": "-jizsOLnhIXB"
   },
   "source": [
    "**SVM**"
   ]
  },
  {
   "cell_type": "code",
   "execution_count": 69,
   "metadata": {
    "executionInfo": {
     "elapsed": 11077,
     "status": "ok",
     "timestamp": 1601279047581,
     "user": {
      "displayName": "Mostofa Kamal Sagor",
      "photoUrl": "https://lh3.googleusercontent.com/a-/AOh14GjKkF3hCXuG4vu_kbbt9ktNbBjA1ZSnubKiggAY=s64",
      "userId": "16260421205970331398"
     },
     "user_tz": -360
    },
    "id": "zPZlS_2chICi"
   },
   "outputs": [],
   "source": [
    "from sklearn.svm import SVC\n",
    "svm = SVC(random_state = 1)"
   ]
  },
  {
   "cell_type": "markdown",
   "metadata": {
    "id": "lnwy7-ZVkcf2"
   },
   "source": [
    "**Naive Bayes**"
   ]
  },
  {
   "cell_type": "code",
   "execution_count": 70,
   "metadata": {
    "executionInfo": {
     "elapsed": 11068,
     "status": "ok",
     "timestamp": 1601279047582,
     "user": {
      "displayName": "Mostofa Kamal Sagor",
      "photoUrl": "https://lh3.googleusercontent.com/a-/AOh14GjKkF3hCXuG4vu_kbbt9ktNbBjA1ZSnubKiggAY=s64",
      "userId": "16260421205970331398"
     },
     "user_tz": -360
    },
    "id": "gKYsoKFJkh6N"
   },
   "outputs": [],
   "source": [
    "from sklearn.naive_bayes import GaussianNB\n",
    "nb = GaussianNB()"
   ]
  },
  {
   "cell_type": "markdown",
   "metadata": {
    "id": "ViNhJLCjiCl8"
   },
   "source": [
    "**Decision Tree**"
   ]
  },
  {
   "cell_type": "code",
   "execution_count": 71,
   "metadata": {
    "executionInfo": {
     "elapsed": 11056,
     "status": "ok",
     "timestamp": 1601279047582,
     "user": {
      "displayName": "Mostofa Kamal Sagor",
      "photoUrl": "https://lh3.googleusercontent.com/a-/AOh14GjKkF3hCXuG4vu_kbbt9ktNbBjA1ZSnubKiggAY=s64",
      "userId": "16260421205970331398"
     },
     "user_tz": -360
    },
    "id": "C058TX45iHtx"
   },
   "outputs": [],
   "source": [
    "from sklearn.tree import DecisionTreeClassifier\n",
    "dtc = DecisionTreeClassifier()"
   ]
  },
  {
   "cell_type": "markdown",
   "metadata": {
    "id": "njfLumWM5oN8"
   },
   "source": [
    "# **Step-06**"
   ]
  },
  {
   "cell_type": "markdown",
   "metadata": {
    "id": "xSdmWFd47G7z"
   },
   "source": [
    "# **Train the training data**"
   ]
  },
  {
   "cell_type": "markdown",
   "metadata": {
    "id": "nV431PuFhTVt"
   },
   "source": [
    "**K-nearest**"
   ]
  },
  {
   "cell_type": "code",
   "execution_count": 72,
   "metadata": {
    "colab": {
     "base_uri": "https://localhost:8080/",
     "height": 67
    },
    "executionInfo": {
     "elapsed": 11048,
     "status": "ok",
     "timestamp": 1601279047583,
     "user": {
      "displayName": "Mostofa Kamal Sagor",
      "photoUrl": "https://lh3.googleusercontent.com/a-/AOh14GjKkF3hCXuG4vu_kbbt9ktNbBjA1ZSnubKiggAY=s64",
      "userId": "16260421205970331398"
     },
     "user_tz": -360
    },
    "id": "9075lNXceKUT",
    "outputId": "d7841300-e70f-4835-ca66-4fafa5a28bf1"
   },
   "outputs": [
    {
     "data": {
      "text/plain": [
       "KNeighborsClassifier(algorithm='auto', leaf_size=30, metric='minkowski',\n",
       "                     metric_params=None, n_jobs=None, n_neighbors=1, p=2,\n",
       "                     weights='uniform')"
      ]
     },
     "execution_count": 72,
     "metadata": {
      "tags": []
     },
     "output_type": "execute_result"
    }
   ],
   "source": [
    "knn.fit(x_train,y_train)"
   ]
  },
  {
   "cell_type": "markdown",
   "metadata": {
    "id": "eOMCtkxuhZBn"
   },
   "source": [
    "**SVM**\n"
   ]
  },
  {
   "cell_type": "code",
   "execution_count": 73,
   "metadata": {
    "colab": {
     "base_uri": "https://localhost:8080/",
     "height": 83
    },
    "executionInfo": {
     "elapsed": 11037,
     "status": "ok",
     "timestamp": 1601279047583,
     "user": {
      "displayName": "Mostofa Kamal Sagor",
      "photoUrl": "https://lh3.googleusercontent.com/a-/AOh14GjKkF3hCXuG4vu_kbbt9ktNbBjA1ZSnubKiggAY=s64",
      "userId": "16260421205970331398"
     },
     "user_tz": -360
    },
    "id": "vhCeQk8ThbXa",
    "outputId": "62960907-9cce-4675-bd42-9f153be28ee2"
   },
   "outputs": [
    {
     "data": {
      "text/plain": [
       "SVC(C=1.0, break_ties=False, cache_size=200, class_weight=None, coef0=0.0,\n",
       "    decision_function_shape='ovr', degree=3, gamma='scale', kernel='rbf',\n",
       "    max_iter=-1, probability=False, random_state=1, shrinking=True, tol=0.001,\n",
       "    verbose=False)"
      ]
     },
     "execution_count": 73,
     "metadata": {
      "tags": []
     },
     "output_type": "execute_result"
    }
   ],
   "source": [
    "svm.fit(x_train, y_train)"
   ]
  },
  {
   "cell_type": "markdown",
   "metadata": {
    "id": "FaLVcTnFkl3R"
   },
   "source": [
    "**Naive Bayes**"
   ]
  },
  {
   "cell_type": "code",
   "execution_count": 74,
   "metadata": {
    "colab": {
     "base_uri": "https://localhost:8080/",
     "height": 33
    },
    "executionInfo": {
     "elapsed": 11027,
     "status": "ok",
     "timestamp": 1601279047584,
     "user": {
      "displayName": "Mostofa Kamal Sagor",
      "photoUrl": "https://lh3.googleusercontent.com/a-/AOh14GjKkF3hCXuG4vu_kbbt9ktNbBjA1ZSnubKiggAY=s64",
      "userId": "16260421205970331398"
     },
     "user_tz": -360
    },
    "id": "W7Jz0B5ikofM",
    "outputId": "0bd61ba6-f745-4fee-e7aa-33defe9c2f23"
   },
   "outputs": [
    {
     "data": {
      "text/plain": [
       "GaussianNB(priors=None, var_smoothing=1e-09)"
      ]
     },
     "execution_count": 74,
     "metadata": {
      "tags": []
     },
     "output_type": "execute_result"
    }
   ],
   "source": [
    "nb.fit(x_train, y_train)"
   ]
  },
  {
   "cell_type": "markdown",
   "metadata": {
    "id": "tryWOHfsiKkY"
   },
   "source": [
    "**Decision Tree**"
   ]
  },
  {
   "cell_type": "code",
   "execution_count": 75,
   "metadata": {
    "colab": {
     "base_uri": "https://localhost:8080/",
     "height": 117
    },
    "executionInfo": {
     "elapsed": 11015,
     "status": "ok",
     "timestamp": 1601279047585,
     "user": {
      "displayName": "Mostofa Kamal Sagor",
      "photoUrl": "https://lh3.googleusercontent.com/a-/AOh14GjKkF3hCXuG4vu_kbbt9ktNbBjA1ZSnubKiggAY=s64",
      "userId": "16260421205970331398"
     },
     "user_tz": -360
    },
    "id": "-GPp-YUHiXjg",
    "outputId": "eb6e7212-9509-4293-d389-e3c72b36e257"
   },
   "outputs": [
    {
     "data": {
      "text/plain": [
       "DecisionTreeClassifier(ccp_alpha=0.0, class_weight=None, criterion='gini',\n",
       "                       max_depth=None, max_features=None, max_leaf_nodes=None,\n",
       "                       min_impurity_decrease=0.0, min_impurity_split=None,\n",
       "                       min_samples_leaf=1, min_samples_split=2,\n",
       "                       min_weight_fraction_leaf=0.0, presort='deprecated',\n",
       "                       random_state=None, splitter='best')"
      ]
     },
     "execution_count": 75,
     "metadata": {
      "tags": []
     },
     "output_type": "execute_result"
    }
   ],
   "source": [
    "dtc.fit(x_train, y_train)"
   ]
  },
  {
   "cell_type": "markdown",
   "metadata": {
    "id": "tUhCDER6LjNr"
   },
   "source": [
    "# ***Step:07***"
   ]
  },
  {
   "cell_type": "markdown",
   "metadata": {
    "id": "Qk1_HEpo7L2t"
   },
   "source": [
    "# **Predict on testing data**"
   ]
  },
  {
   "cell_type": "markdown",
   "metadata": {
    "id": "O7ojfuW3gfBe"
   },
   "source": [
    "**K-nearest**"
   ]
  },
  {
   "cell_type": "code",
   "execution_count": 76,
   "metadata": {
    "colab": {
     "base_uri": "https://localhost:8080/",
     "height": 67
    },
    "executionInfo": {
     "elapsed": 11004,
     "status": "ok",
     "timestamp": 1601279047585,
     "user": {
      "displayName": "Mostofa Kamal Sagor",
      "photoUrl": "https://lh3.googleusercontent.com/a-/AOh14GjKkF3hCXuG4vu_kbbt9ktNbBjA1ZSnubKiggAY=s64",
      "userId": "16260421205970331398"
     },
     "user_tz": -360
    },
    "id": "EPB5fyg47P_j",
    "outputId": "04e93772-bce8-41fe-dd34-236faa2dfc00"
   },
   "outputs": [
    {
     "data": {
      "text/plain": [
       "array([1, 1, 1, 0, 0, 0, 0, 1, 1, 1, 1, 0, 1, 0, 1, 0, 1, 1, 1, 1, 1, 0,\n",
       "       0, 1, 0, 1, 1, 0, 0, 1, 0, 1, 1, 1, 0, 1, 1, 1, 0, 1, 1, 0, 0, 0,\n",
       "       1, 1, 1, 0, 0, 0, 1, 0, 0, 1, 1, 0, 0])"
      ]
     },
     "execution_count": 76,
     "metadata": {
      "tags": []
     },
     "output_type": "execute_result"
    }
   ],
   "source": [
    "y_pred1 = knn.predict(x_test)\n",
    "y_pred1"
   ]
  },
  {
   "cell_type": "code",
   "execution_count": 77,
   "metadata": {
    "colab": {
     "base_uri": "https://localhost:8080/",
     "height": 50
    },
    "executionInfo": {
     "elapsed": 10993,
     "status": "ok",
     "timestamp": 1601279047586,
     "user": {
      "displayName": "Mostofa Kamal Sagor",
      "photoUrl": "https://lh3.googleusercontent.com/a-/AOh14GjKkF3hCXuG4vu_kbbt9ktNbBjA1ZSnubKiggAY=s64",
      "userId": "16260421205970331398"
     },
     "user_tz": -360
    },
    "id": "cor5YCi-RjtL",
    "outputId": "27d37773-09f7-4908-a67a-857a3a2b11ca"
   },
   "outputs": [
    {
     "name": "stdout",
     "output_type": "stream",
     "text": [
      "Heart disease patient: 32\n",
      "Normal patient: 25\n"
     ]
    }
   ],
   "source": [
    "print(\"Heart disease patient:\",[x for x in y_pred1].count(1))\n",
    "print(\"Normal patient:\",[x for x in y_pred1].count(0))"
   ]
  },
  {
   "cell_type": "markdown",
   "metadata": {
    "id": "seixnYQvheMk"
   },
   "source": [
    "**SVM**"
   ]
  },
  {
   "cell_type": "code",
   "execution_count": 78,
   "metadata": {
    "colab": {
     "base_uri": "https://localhost:8080/",
     "height": 67
    },
    "executionInfo": {
     "elapsed": 10983,
     "status": "ok",
     "timestamp": 1601279047586,
     "user": {
      "displayName": "Mostofa Kamal Sagor",
      "photoUrl": "https://lh3.googleusercontent.com/a-/AOh14GjKkF3hCXuG4vu_kbbt9ktNbBjA1ZSnubKiggAY=s64",
      "userId": "16260421205970331398"
     },
     "user_tz": -360
    },
    "id": "rz7VBLvghf8L",
    "outputId": "a56bc753-e410-43e6-ba5a-aff7fd438dbb"
   },
   "outputs": [
    {
     "data": {
      "text/plain": [
       "array([1, 1, 1, 0, 0, 0, 0, 1, 1, 1, 1, 0, 1, 0, 1, 0, 1, 1, 1, 1, 1, 0,\n",
       "       1, 0, 1, 1, 1, 0, 0, 1, 0, 1, 1, 1, 0, 1, 1, 1, 0, 1, 1, 0, 1, 0,\n",
       "       1, 0, 0, 0, 0, 0, 1, 1, 0, 1, 1, 0, 0])"
      ]
     },
     "execution_count": 78,
     "metadata": {
      "tags": []
     },
     "output_type": "execute_result"
    }
   ],
   "source": [
    "y_pred2 = svm.predict(x_test)\n",
    "y_pred2"
   ]
  },
  {
   "cell_type": "code",
   "execution_count": 79,
   "metadata": {
    "colab": {
     "base_uri": "https://localhost:8080/",
     "height": 50
    },
    "executionInfo": {
     "elapsed": 10973,
     "status": "ok",
     "timestamp": 1601279047587,
     "user": {
      "displayName": "Mostofa Kamal Sagor",
      "photoUrl": "https://lh3.googleusercontent.com/a-/AOh14GjKkF3hCXuG4vu_kbbt9ktNbBjA1ZSnubKiggAY=s64",
      "userId": "16260421205970331398"
     },
     "user_tz": -360
    },
    "id": "s9DFhp5JRpNN",
    "outputId": "72833000-6336-4101-9f6f-4a20ca28b532"
   },
   "outputs": [
    {
     "name": "stdout",
     "output_type": "stream",
     "text": [
      "Heart disease patient: 33\n",
      "Normal patient: 24\n"
     ]
    }
   ],
   "source": [
    "print(\"Heart disease patient:\",[x for x in y_pred2].count(1))\n",
    "print(\"Normal patient:\",[x for x in y_pred2].count(0))"
   ]
  },
  {
   "cell_type": "markdown",
   "metadata": {
    "id": "5pgLXfETkv0y"
   },
   "source": [
    "**Naive Bayes**"
   ]
  },
  {
   "cell_type": "code",
   "execution_count": 80,
   "metadata": {
    "colab": {
     "base_uri": "https://localhost:8080/",
     "height": 67
    },
    "executionInfo": {
     "elapsed": 10963,
     "status": "ok",
     "timestamp": 1601279047588,
     "user": {
      "displayName": "Mostofa Kamal Sagor",
      "photoUrl": "https://lh3.googleusercontent.com/a-/AOh14GjKkF3hCXuG4vu_kbbt9ktNbBjA1ZSnubKiggAY=s64",
      "userId": "16260421205970331398"
     },
     "user_tz": -360
    },
    "id": "jWTiRT9wkziV",
    "outputId": "98c07667-6e51-4775-e15b-3b40dbd030b7"
   },
   "outputs": [
    {
     "data": {
      "text/plain": [
       "array([1, 1, 1, 0, 0, 0, 0, 1, 1, 1, 1, 0, 1, 0, 1, 0, 1, 1, 1, 0, 0, 0,\n",
       "       1, 0, 1, 1, 1, 0, 0, 1, 0, 1, 1, 1, 0, 1, 1, 1, 0, 1, 0, 0, 1, 1,\n",
       "       1, 0, 0, 0, 0, 0, 1, 1, 0, 1, 1, 0, 0])"
      ]
     },
     "execution_count": 80,
     "metadata": {
      "tags": []
     },
     "output_type": "execute_result"
    }
   ],
   "source": [
    "y_pred3= nb.predict(x_test)\n",
    "y_pred3"
   ]
  },
  {
   "cell_type": "code",
   "execution_count": 81,
   "metadata": {
    "colab": {
     "base_uri": "https://localhost:8080/",
     "height": 50
    },
    "executionInfo": {
     "elapsed": 10950,
     "status": "ok",
     "timestamp": 1601279047588,
     "user": {
      "displayName": "Mostofa Kamal Sagor",
      "photoUrl": "https://lh3.googleusercontent.com/a-/AOh14GjKkF3hCXuG4vu_kbbt9ktNbBjA1ZSnubKiggAY=s64",
      "userId": "16260421205970331398"
     },
     "user_tz": -360
    },
    "id": "GU9a67VSSF1w",
    "outputId": "3da2301d-9116-439f-eba0-9b2f6dd8bb82"
   },
   "outputs": [
    {
     "name": "stdout",
     "output_type": "stream",
     "text": [
      "Heart disease patient: 31\n",
      "Normal patient: 26\n"
     ]
    }
   ],
   "source": [
    "print(\"Heart disease patient:\",[x for x in y_pred3].count(1))\n",
    "print(\"Normal patient:\",[x for x in y_pred3].count(0))"
   ]
  },
  {
   "cell_type": "markdown",
   "metadata": {
    "id": "xz8dcWFqiPEZ"
   },
   "source": [
    "**Decision Tree**"
   ]
  },
  {
   "cell_type": "code",
   "execution_count": 82,
   "metadata": {
    "colab": {
     "base_uri": "https://localhost:8080/",
     "height": 67
    },
    "executionInfo": {
     "elapsed": 10939,
     "status": "ok",
     "timestamp": 1601279047589,
     "user": {
      "displayName": "Mostofa Kamal Sagor",
      "photoUrl": "https://lh3.googleusercontent.com/a-/AOh14GjKkF3hCXuG4vu_kbbt9ktNbBjA1ZSnubKiggAY=s64",
      "userId": "16260421205970331398"
     },
     "user_tz": -360
    },
    "id": "bFJBeFklibK5",
    "outputId": "46c0aefe-8fe8-4541-b1e5-30a3980b86f8"
   },
   "outputs": [
    {
     "data": {
      "text/plain": [
       "array([1, 1, 1, 1, 0, 0, 0, 1, 1, 0, 1, 0, 1, 0, 1, 0, 0, 1, 1, 0, 1, 1,\n",
       "       1, 0, 1, 1, 0, 0, 0, 0, 0, 1, 0, 0, 0, 1, 0, 1, 0, 1, 1, 0, 0, 0,\n",
       "       1, 0, 1, 0, 0, 0, 1, 0, 0, 1, 1, 0, 0])"
      ]
     },
     "execution_count": 82,
     "metadata": {
      "tags": []
     },
     "output_type": "execute_result"
    }
   ],
   "source": [
    "y_pred4 = dtc.predict(x_test)\n",
    "y_pred4"
   ]
  },
  {
   "cell_type": "code",
   "execution_count": 83,
   "metadata": {
    "colab": {
     "base_uri": "https://localhost:8080/",
     "height": 50
    },
    "executionInfo": {
     "elapsed": 10928,
     "status": "ok",
     "timestamp": 1601279047590,
     "user": {
      "displayName": "Mostofa Kamal Sagor",
      "photoUrl": "https://lh3.googleusercontent.com/a-/AOh14GjKkF3hCXuG4vu_kbbt9ktNbBjA1ZSnubKiggAY=s64",
      "userId": "16260421205970331398"
     },
     "user_tz": -360
    },
    "id": "V3bvxgRPSJWP",
    "outputId": "478dd508-3a6e-4445-f9f5-2f76091b299f"
   },
   "outputs": [
    {
     "name": "stdout",
     "output_type": "stream",
     "text": [
      "Heart disease patient: 26\n",
      "Normal patient: 31\n"
     ]
    }
   ],
   "source": [
    "print(\"Heart disease patient:\",[x for x in y_pred4].count(1))\n",
    "print(\"Normal patient:\",[x for x in y_pred4].count(0))"
   ]
  },
  {
   "cell_type": "markdown",
   "metadata": {
    "id": "HJ-hNe5nLmzE"
   },
   "source": [
    "# ***Step:08***"
   ]
  },
  {
   "cell_type": "code",
   "execution_count": 84,
   "metadata": {
    "executionInfo": {
     "elapsed": 10916,
     "status": "ok",
     "timestamp": 1601279047591,
     "user": {
      "displayName": "Mostofa Kamal Sagor",
      "photoUrl": "https://lh3.googleusercontent.com/a-/AOh14GjKkF3hCXuG4vu_kbbt9ktNbBjA1ZSnubKiggAY=s64",
      "userId": "16260421205970331398"
     },
     "user_tz": -360
    },
    "id": "I9ZvChyIQLLY"
   },
   "outputs": [],
   "source": [
    "from sklearn.metrics import accuracy_score"
   ]
  },
  {
   "cell_type": "markdown",
   "metadata": {
    "id": "bDSvbmRZ4IQT"
   },
   "source": [
    "####**The following dictionary is used for comparing the different ML algorithms performance :**"
   ]
  },
  {
   "cell_type": "code",
   "execution_count": 85,
   "metadata": {
    "executionInfo": {
     "elapsed": 10906,
     "status": "ok",
     "timestamp": 1601279047591,
     "user": {
      "displayName": "Mostofa Kamal Sagor",
      "photoUrl": "https://lh3.googleusercontent.com/a-/AOh14GjKkF3hCXuG4vu_kbbt9ktNbBjA1ZSnubKiggAY=s64",
      "userId": "16260421205970331398"
     },
     "user_tz": -360
    },
    "id": "MqWY5XMkmzNh"
   },
   "outputs": [],
   "source": [
    "accDictionary = {}"
   ]
  },
  {
   "cell_type": "markdown",
   "metadata": {
    "id": "03BvolsV7QYG"
   },
   "source": [
    "# **Performance or result evaluation**"
   ]
  },
  {
   "cell_type": "markdown",
   "metadata": {
    "id": "Ls9J3XMLgbf8"
   },
   "source": [
    "**K-nearest algorithm's performace**"
   ]
  },
  {
   "cell_type": "code",
   "execution_count": 86,
   "metadata": {
    "executionInfo": {
     "elapsed": 10896,
     "status": "ok",
     "timestamp": 1601279047592,
     "user": {
      "displayName": "Mostofa Kamal Sagor",
      "photoUrl": "https://lh3.googleusercontent.com/a-/AOh14GjKkF3hCXuG4vu_kbbt9ktNbBjA1ZSnubKiggAY=s64",
      "userId": "16260421205970331398"
     },
     "user_tz": -360
    },
    "id": "C1MNSWSnPT_4"
   },
   "outputs": [],
   "source": [
    "acc1 = round(accuracy_score(y_pred1 ,y_test)*100,2)\n",
    "accDictionary[\"KNN\"]=acc1"
   ]
  },
  {
   "cell_type": "code",
   "execution_count": 87,
   "metadata": {
    "colab": {
     "base_uri": "https://localhost:8080/",
     "height": 33
    },
    "executionInfo": {
     "elapsed": 10884,
     "status": "ok",
     "timestamp": 1601279047592,
     "user": {
      "displayName": "Mostofa Kamal Sagor",
      "photoUrl": "https://lh3.googleusercontent.com/a-/AOh14GjKkF3hCXuG4vu_kbbt9ktNbBjA1ZSnubKiggAY=s64",
      "userId": "16260421205970331398"
     },
     "user_tz": -360
    },
    "id": "XvlVarJQ7VvQ",
    "outputId": "2f5f648d-d3a6-4687-fc0b-0cc3959d94a0"
   },
   "outputs": [
    {
     "name": "stdout",
     "output_type": "stream",
     "text": [
      "Performance score: 84.21 %\n"
     ]
    }
   ],
   "source": [
    "print(\"Performance score: {:.2f} %\".format(acc1))"
   ]
  },
  {
   "cell_type": "markdown",
   "metadata": {
    "id": "Psi4gQXbhvpU"
   },
   "source": [
    "**SVM algorithm's performace**"
   ]
  },
  {
   "cell_type": "code",
   "execution_count": 88,
   "metadata": {
    "executionInfo": {
     "elapsed": 10874,
     "status": "ok",
     "timestamp": 1601279047593,
     "user": {
      "displayName": "Mostofa Kamal Sagor",
      "photoUrl": "https://lh3.googleusercontent.com/a-/AOh14GjKkF3hCXuG4vu_kbbt9ktNbBjA1ZSnubKiggAY=s64",
      "userId": "16260421205970331398"
     },
     "user_tz": -360
    },
    "id": "fMx9zceMM8xc"
   },
   "outputs": [],
   "source": [
    "acc2 = round(accuracy_score(y_pred2 ,y_test)*100,2)\n",
    "accDictionary[\"SVM\"]=acc2"
   ]
  },
  {
   "cell_type": "code",
   "execution_count": 89,
   "metadata": {
    "colab": {
     "base_uri": "https://localhost:8080/",
     "height": 33
    },
    "executionInfo": {
     "elapsed": 10860,
     "status": "ok",
     "timestamp": 1601279047593,
     "user": {
      "displayName": "Mostofa Kamal Sagor",
      "photoUrl": "https://lh3.googleusercontent.com/a-/AOh14GjKkF3hCXuG4vu_kbbt9ktNbBjA1ZSnubKiggAY=s64",
      "userId": "16260421205970331398"
     },
     "user_tz": -360
    },
    "id": "yfJVnM_VhxHI",
    "outputId": "68cd4e67-b7af-4960-90fb-a2ba36dba5ae"
   },
   "outputs": [
    {
     "name": "stdout",
     "output_type": "stream",
     "text": [
      "Performance score: 85.96%\n"
     ]
    }
   ],
   "source": [
    "print(\"Performance score: {:.2f}%\".format(acc2))"
   ]
  },
  {
   "cell_type": "markdown",
   "metadata": {
    "id": "y_LNj61ak4k8"
   },
   "source": [
    "**Naive Bayes algorithm's performace**"
   ]
  },
  {
   "cell_type": "code",
   "execution_count": 90,
   "metadata": {
    "executionInfo": {
     "elapsed": 10854,
     "status": "ok",
     "timestamp": 1601279047597,
     "user": {
      "displayName": "Mostofa Kamal Sagor",
      "photoUrl": "https://lh3.googleusercontent.com/a-/AOh14GjKkF3hCXuG4vu_kbbt9ktNbBjA1ZSnubKiggAY=s64",
      "userId": "16260421205970331398"
     },
     "user_tz": -360
    },
    "id": "k6vw6uO-M7jw"
   },
   "outputs": [],
   "source": [
    "acc3 = round(accuracy_score(y_pred3 ,y_test)*100,2)\n",
    "accDictionary[\"Naive Bayes\"]=acc3"
   ]
  },
  {
   "cell_type": "code",
   "execution_count": 91,
   "metadata": {
    "colab": {
     "base_uri": "https://localhost:8080/",
     "height": 33
    },
    "executionInfo": {
     "elapsed": 10845,
     "status": "ok",
     "timestamp": 1601279047599,
     "user": {
      "displayName": "Mostofa Kamal Sagor",
      "photoUrl": "https://lh3.googleusercontent.com/a-/AOh14GjKkF3hCXuG4vu_kbbt9ktNbBjA1ZSnubKiggAY=s64",
      "userId": "16260421205970331398"
     },
     "user_tz": -360
    },
    "id": "kAIikk4Vk6jZ",
    "outputId": "0d227ed9-2d0e-4841-a8fe-f025125f31de"
   },
   "outputs": [
    {
     "name": "stdout",
     "output_type": "stream",
     "text": [
      "Performance score: 82.46%\n"
     ]
    }
   ],
   "source": [
    "print(\"Performance score: {:.2f}%\".format(acc3))"
   ]
  },
  {
   "cell_type": "markdown",
   "metadata": {
    "id": "tA2K7tiUiQcZ"
   },
   "source": [
    "**Decision Tree algorithm's performace**"
   ]
  },
  {
   "cell_type": "code",
   "execution_count": 92,
   "metadata": {
    "executionInfo": {
     "elapsed": 10835,
     "status": "ok",
     "timestamp": 1601279047600,
     "user": {
      "displayName": "Mostofa Kamal Sagor",
      "photoUrl": "https://lh3.googleusercontent.com/a-/AOh14GjKkF3hCXuG4vu_kbbt9ktNbBjA1ZSnubKiggAY=s64",
      "userId": "16260421205970331398"
     },
     "user_tz": -360
    },
    "id": "RipeLWszM7Dg"
   },
   "outputs": [],
   "source": [
    "acc4 = round(accuracy_score(y_pred4 ,y_test)*100,2)\n",
    "accDictionary[\"Decision Tree\"]=acc4"
   ]
  },
  {
   "cell_type": "code",
   "execution_count": 93,
   "metadata": {
    "colab": {
     "base_uri": "https://localhost:8080/",
     "height": 33
    },
    "executionInfo": {
     "elapsed": 10825,
     "status": "ok",
     "timestamp": 1601279047601,
     "user": {
      "displayName": "Mostofa Kamal Sagor",
      "photoUrl": "https://lh3.googleusercontent.com/a-/AOh14GjKkF3hCXuG4vu_kbbt9ktNbBjA1ZSnubKiggAY=s64",
      "userId": "16260421205970331398"
     },
     "user_tz": -360
    },
    "id": "xHYzOGX9iRp4",
    "outputId": "c8a33e72-17b5-47fa-f259-3efc9b1fa4f0"
   },
   "outputs": [
    {
     "name": "stdout",
     "output_type": "stream",
     "text": [
      "Performance score: 77.19%\n"
     ]
    }
   ],
   "source": [
    "print(\"Performance score: {:.2f}%\".format(acc4))"
   ]
  },
  {
   "cell_type": "markdown",
   "metadata": {
    "id": "Dij3a-5rm7MU"
   },
   "source": [
    "## **Comparing the results from different algorithms**"
   ]
  },
  {
   "cell_type": "code",
   "execution_count": 7,
   "metadata": {
    "colab": {
     "base_uri": "https://localhost:8080/",
     "height": 283
    },
    "executionInfo": {
     "elapsed": 10815,
     "status": "ok",
     "timestamp": 1601279047602,
     "user": {
      "displayName": "Mostofa Kamal Sagor",
      "photoUrl": "https://lh3.googleusercontent.com/a-/AOh14GjKkF3hCXuG4vu_kbbt9ktNbBjA1ZSnubKiggAY=s64",
      "userId": "16260421205970331398"
     },
     "user_tz": -360
    },
    "id": "IV-mbhtknAbd",
    "outputId": "187e466a-c374-4061-cff8-37491d5ceabf"
   },
   "outputs": [
    {
     "data": {
      "image/png": "[encoded data removed]",
      "text/plain": [
       "<Figure size 576x288 with 1 Axes>"
      ]
     },
     "metadata": {},
     "output_type": "display_data"
    }
   ],
   "source": [
    "colors = [\"blue\", \"yellow\", \"red\",\"green\",]\n",
    "sns.set_style(\"whitegrid\")\n",
    "plt.figure(figsize=(8,4))#width-height\n",
    "plt.yticks(np.arange(0,100,10))\n",
    "sns.barplot(x=[\"CheXnet\",\"CNN with LIIC\",\"CNN with LIIC & ResNet\",\"Ensemble_Beta\"], y=[76.80,75.65,78.73,88.14], palette=colors)\n",
    "plt.xlabel(\"Architecture or Model\")\n",
    "plt.ylabel(\"Validation Accuracy %\")\n",
    "plt.show()"
   ]
  },
  {
   "cell_type": "markdown",
   "metadata": {
    "id": "eWw16gie1kUK"
   },
   "source": [
    "# **Summary**\n",
    "\n",
    "\n",
    "1.   Loaded the dataset into the google colab directory. Read the dataset by using the path of the xlsx file.\n",
    "2. Visualized the dataset through different terminologies like- single plotting, multi-plotting, checked data balance and so on\n",
    "3. Preprocessed the dataset in form of deleting NaN values,imputing mean values,feature engineering and so on.\n",
    "4. Selected the feature that is mostly correlated with the target, did feature scaling.\n",
    "5. splited the training and testing dataset.\n",
    "6. Trained our model with the training dataset through different algorithms.\n",
    "7. Collected the prediction rate\n",
    "8. Made a comaprison among the accuracies or performance measurements of different algorithms to get the best suited algorithm for solving the machine learning problem to predict heart disease rate accurately.  \n",
    "\n",
    "\n",
    "\n"
   ]
  }
 ],
 "metadata": {
  "colab": {
   "authorship_tag": "ABX9TyMvOzxzCuLbqxhqaLNpE43H",
   "collapsed_sections": [],
   "mount_file_id": "1JfB-be9cUyWD1liHYvFTk7jhNXDx8PSC",
   "name": "heart_disease_prediction_rate.ipynb",
   "provenance": []
  },
  "kernelspec": {
   "display_name": "Python 3",
   "language": "python",
   "name": "python3"
  },
  "language_info": {
   "codemirror_mode": {
    "name": "ipython",
    "version": 3
   },
   "file_extension": ".py",
   "mimetype": "text/x-python",
   "name": "python",
   "nbconvert_exporter": "python",
   "pygments_lexer": "ipython3",
   "version": "3.7.6"
  }
 },
 "nbformat": 4,
 "nbformat_minor": 1
}
